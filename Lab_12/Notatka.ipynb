{
 "cells": [
  {
   "cell_type": "markdown",
   "id": "8eb4e893-ec9b-47ae-8e76-65abea531f25",
   "metadata": {},
   "source": [
    "# Spark UI\n",
    "\n",
    "Spark UI służy do monitorowania i analizy działania aplikacji Spark. Poniżej opis najważniejszych zakładek:\n",
    "\n",
    "---\n",
    "\n",
    "## Jobs\n",
    "- Lista zadań (jobs) Spark.\n",
    "- Status, czas trwania, rozmiar danych.\n",
    "- Linki do szczegółów etapów (**Stages**).\n",
    "\n",
    "## Stages\n",
    "- Szczegóły etapów przetwarzania.\n",
    "- Liczba zadań (tasks), czas wykonania, **shuffle read/write**.\n",
    "- Pokazuje rozkład zadań między partycjami.\n",
    "\n",
    "## Storage\n",
    "- Informacje o buforowanych (cached) danych.\n",
    "- Rozmiar, liczba partycji, lokalizacja w pamięci/dysku.\n",
    "- **Tu sprawdzisz rozproszenie danych.**\n",
    "\n",
    "## Executors\n",
    "- Lista executorów i ich obciążenie.\n",
    "- Zużycie pamięci, liczba zadań, I/O.\n",
    "- Pokazuje, jak dane i zadania są rozdzielone.\n",
    "\n",
    "## SQL / DataFrame\n",
    "- Plany zapytań: logical, physical, executed.\n",
    "- Info o optymalizacji, shuffle, broadcast joins.\n",
    "\n",
    "---\n",
    "\n",
    "## Gdzie sprawdzić dystrybucję danych?\n",
    "- **Storage** – partycje i buforowanie danych.  \n",
    "- **Executors** – obciążenie węzłów.  \n",
    "- **Stages** – shuffle i liczba partycji.\n",
    "\n",
    "---"
   ]
  },
  {
   "cell_type": "code",
   "execution_count": null,
   "id": "07ff29ad-3bac-4235-8e78-48dffb045a63",
   "metadata": {},
   "outputs": [],
   "source": []
  }
 ],
 "metadata": {
  "kernelspec": {
   "display_name": "Python 3 (ipykernel)",
   "language": "python",
   "name": "python3"
  },
  "language_info": {
   "codemirror_mode": {
    "name": "ipython",
    "version": 3
   },
   "file_extension": ".py",
   "mimetype": "text/x-python",
   "name": "python",
   "nbconvert_exporter": "python",
   "pygments_lexer": "ipython3",
   "version": "3.11.8"
  }
 },
 "nbformat": 4,
 "nbformat_minor": 5
}
