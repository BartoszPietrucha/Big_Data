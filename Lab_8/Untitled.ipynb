{
 "cells": [
  {
   "cell_type": "markdown",
   "id": "92dbc20e-aeb9-458b-81a7-47cac4f62b60",
   "metadata": {},
   "source": [
    "## Poka Yoke – Metody odporne na błędy w pipeline danych (Azure)\n",
    "\n",
    "### 1. Walidacja danych wejściowych  \n",
    "- Sprawdzaj, czy dane z IoT Hub mieszczą się w poprawnych zakresach.  \n",
    "- Odrzucaj dane, jeśli temperatura > 100°C lub < -50°C.  \n",
    "- Usuwaj duplikaty i poprawiaj formaty danych.\n",
    "\n",
    "### 2. Automatyczne uzupełnianie braków danych  \n",
    "- Zastępuj brakujące wartości średnią lub medianą.  \n",
    "- Możesz użyć modelu do przewidywania braków.  \n",
    "- Zapobiega to błędom podczas trenowania modeli.\n",
    "\n",
    "### 3. Alerty i automatyczna naprawa  \n",
    "- Twórz alerty na brak danych lub błędy w pipeline.  \n",
    "- Wysyłaj powiadomienia do zespołu.  \n",
    "- Automatycznie restartuj pipeline lub wykonuj naprawy.\n",
    "\n",
    "### 4. Konfiguracja przez pliki YAML/JSON  \n",
    "- Przechowuj parametry w plikach konfiguracyjnych.  \n",
    "- Zmieniaj ustawienia bez ingerencji w kod.  \n",
    "- Wersjonuj pliki, by łatwo cofać zmiany.\n",
    "\n",
    "### 5. Testowanie i wersjonowanie modeli ML  \n",
    "- Testuj modele na danych testowych przed wdrożeniem.  \n",
    "- Wersjonuj modele dla łatwego powrotu do poprzednich.  \n",
    "- Wdrażaj nowe modele stopniowo (canary deployment)."
   ]
  },
  {
   "cell_type": "code",
   "execution_count": null,
   "id": "e7b1cd4b-58d1-424b-8002-54d09df9df7e",
   "metadata": {},
   "outputs": [],
   "source": []
  }
 ],
 "metadata": {
  "kernelspec": {
   "display_name": "Python 3 (ipykernel)",
   "language": "python",
   "name": "python3"
  },
  "language_info": {
   "codemirror_mode": {
    "name": "ipython",
    "version": 3
   },
   "file_extension": ".py",
   "mimetype": "text/x-python",
   "name": "python",
   "nbconvert_exporter": "python",
   "pygments_lexer": "ipython3",
   "version": "3.11.8"
  }
 },
 "nbformat": 4,
 "nbformat_minor": 5
}
