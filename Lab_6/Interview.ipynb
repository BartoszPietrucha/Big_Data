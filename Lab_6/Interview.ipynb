{
 "cells": [
  {
   "cell_type": "markdown",
   "id": "37703c5a-60b1-47d1-bab7-e06fc4069908",
   "metadata": {},
   "source": [
    "# Big Data / AI / Cloud – Notatka do interview (Azure)\n",
    "\n",
    "## 🔧 Kluczowe narzędzia (Azure)\n",
    "\n",
    "| Obszar        | Narzędzie                     | Co robi?                          |\n",
    "|---------------|-------------------------------|-----------------------------------|\n",
    "| Storage       | Data Lake Gen2                | Trzyma dane                       |\n",
    "| Przetwarzanie | Synapse, Databricks           | Analiza i obróbka danych          |\n",
    "| Strumienie    | Event Hub, Stream Analytics   | Dane w czasie rzeczywistym       |\n",
    "| ETL           | Data Factory                  | Łączenie i przesyłanie danych     |\n",
    "| AI / ML       | Azure Machine Learning        | Trening i wdrażanie modeli        |\n",
    "| Monitoring    | Azure Monitor, Log Analytics  | Obserwacja, alerty                |\n",
    "| Wizualizacja  | Power BI                      | Dashboardy, wykresy               |\n",
    "\n",
    "---\n",
    "\n",
    "## Przykład PoC – Wykrywanie anomalii (IoT)\n",
    "\n",
    "- **IoT Hub** – odbiera dane z czujników  \n",
    "- **Stream Analytics** – wykrywa anomalie  \n",
    "- **Data Lake** – zapisuje dane  \n",
    "- **Azure ML** – trenuje model  \n",
    "- **Power BI** – pokazuje wyniki  \n",
    "\n",
    "## Architektura:  \n",
    "`IoT → IoT Hub → Stream Analytics → Data Lake → ML → SQL / Power BI`\n",
    "\n",
    "---\n",
    "\n",
    "\n",
    "##  Certyfikaty (co warto ogarniać):\n",
    "\n",
    "| Certyfikat | Co zawiera?                            |\n",
    "|------------|-----------------------------------------|\n",
    "| DP-203     | Dane, Synapse, Spark                    |\n",
    "| DP-100     | Machine Learning, Azure ML              |\n",
    "| AI-102     | AI, API, odpowiedzialna AI              |\n",
    "| Fabric     | Power BI, OneLake, Lakehouse            |"
   ]
  },
  {
   "cell_type": "code",
   "execution_count": null,
   "id": "8e1d37a4-d9c5-40c5-b3d4-a5cfec105c40",
   "metadata": {},
   "outputs": [],
   "source": []
  }
 ],
 "metadata": {
  "kernelspec": {
   "display_name": "Python 3 (ipykernel)",
   "language": "python",
   "name": "python3"
  },
  "language_info": {
   "codemirror_mode": {
    "name": "ipython",
    "version": 3
   },
   "file_extension": ".py",
   "mimetype": "text/x-python",
   "name": "python",
   "nbconvert_exporter": "python",
   "pygments_lexer": "ipython3",
   "version": "3.11.8"
  }
 },
 "nbformat": 4,
 "nbformat_minor": 5
}
