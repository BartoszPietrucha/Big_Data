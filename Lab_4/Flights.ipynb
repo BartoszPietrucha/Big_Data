{
 "cells": [
  {
   "cell_type": "code",
   "execution_count": 0,
   "metadata": {
    "application/vnd.databricks.v1+cell": {
     "cellMetadata": {
      "byteLimit": 2048000,
      "rowLimit": 10000
     },
     "inputWidgets": {},
     "nuid": "a53796bb-5f66-4cbf-af0d-7a11537ef29a",
     "showTitle": false,
     "tableResultSettingsMap": {},
     "title": ""
    }
   },
   "outputs": [
    {
     "output_type": "display_data",
     "data": {
      "text/html": [
       "<style scoped>\n",
       "  .table-result-container {\n",
       "    max-height: 300px;\n",
       "    overflow: auto;\n",
       "  }\n",
       "  table, th, td {\n",
       "    border: 1px solid black;\n",
       "    border-collapse: collapse;\n",
       "  }\n",
       "  th, td {\n",
       "    padding: 5px;\n",
       "  }\n",
       "  th {\n",
       "    text-align: left;\n",
       "  }\n",
       "</style><div class='table-result-container'><table class='table-result'><thead style='background-color: white'><tr><th>dest</th><th>origin</th><th>flights</th></tr></thead><tbody><tr><td>United States</td><td>Saint Martin</td><td>1</td></tr><tr><td>United States</td><td>Romania</td><td>12</td></tr><tr><td>United States</td><td>Croatia</td><td>2</td></tr><tr><td>United States</td><td>Ireland</td><td>291</td></tr><tr><td>United States</td><td>India</td><td>62</td></tr><tr><td>Egypt</td><td>United States</td><td>11</td></tr><tr><td>United States</td><td>Grenada</td><td>47</td></tr><tr><td>Costa Rica</td><td>United States</td><td>529</td></tr><tr><td>Senegal</td><td>United States</td><td>35</td></tr><tr><td>United States</td><td>Sint Maarten</td><td>290</td></tr></tbody></table></div>"
      ]
     },
     "metadata": {
      "application/vnd.databricks.v1+output": {
       "addedWidgets": {},
       "aggData": [],
       "aggError": "",
       "aggOverflow": false,
       "aggSchema": [],
       "aggSeriesLimitReached": false,
       "aggType": "",
       "arguments": {},
       "columnCustomDisplayInfos": {},
       "data": [
        [
         "United States",
         "Saint Martin",
         1
        ],
        [
         "United States",
         "Romania",
         12
        ],
        [
         "United States",
         "Croatia",
         2
        ],
        [
         "United States",
         "Ireland",
         291
        ],
        [
         "United States",
         "India",
         62
        ],
        [
         "Egypt",
         "United States",
         11
        ],
        [
         "United States",
         "Grenada",
         47
        ],
        [
         "Costa Rica",
         "United States",
         529
        ],
        [
         "Senegal",
         "United States",
         35
        ],
        [
         "United States",
         "Sint Maarten",
         290
        ]
       ],
       "datasetInfos": [],
       "dbfsResultPath": null,
       "isJsonSchema": true,
       "metadata": {},
       "overflow": false,
       "plotOptions": {
        "customPlotOptions": {},
        "displayType": "table",
        "pivotAggregation": null,
        "pivotColumns": null,
        "xColumns": null,
        "yColumns": null
       },
       "removedWidgets": [],
       "schema": [
        {
         "metadata": "{}",
         "name": "dest",
         "type": "\"string\""
        },
        {
         "metadata": "{}",
         "name": "origin",
         "type": "\"string\""
        },
        {
         "metadata": "{}",
         "name": "flights",
         "type": "\"integer\""
        }
       ],
       "type": "table"
      }
     },
     "output_type": "display_data"
    }
   ],
   "source": [
    "from pyspark.sql import functions as F\n",
    "from pyspark.sql import types as T\n",
    "\n",
    "schema = T.StructType([\n",
    "    T.StructField(\"dest\", T.StringType()),\n",
    "    T.StructField(\"origin\", T.StringType()),\n",
    "    T.StructField(\"flights\", T.IntegerType())\n",
    "])\n",
    "\n",
    "df = (spark.read.option(\"header\", True)\n",
    "            .schema(schema)\n",
    "            .csv(\"/FileStore/tables/2014_summary.csv\"))\n",
    "\n",
    "display(df.limit(10))\n",
    "\n"
   ]
  },
  {
   "cell_type": "code",
   "execution_count": 0,
   "metadata": {
    "application/vnd.databricks.v1+cell": {
     "cellMetadata": {
      "byteLimit": 2048000,
      "rowLimit": 10000
     },
     "inputWidgets": {},
     "nuid": "5f718110-a5af-46c0-8d48-e41531820b4f",
     "showTitle": false,
     "tableResultSettingsMap": {},
     "title": ""
    }
   },
   "outputs": [
    {
     "output_type": "display_data",
     "data": {
      "text/html": [
       "<style scoped>\n",
       "  .table-result-container {\n",
       "    max-height: 300px;\n",
       "    overflow: auto;\n",
       "  }\n",
       "  table, th, td {\n",
       "    border: 1px solid black;\n",
       "    border-collapse: collapse;\n",
       "  }\n",
       "  th, td {\n",
       "    padding: 5px;\n",
       "  }\n",
       "  th {\n",
       "    text-align: left;\n",
       "  }\n",
       "</style><div class='table-result-container'><table class='table-result'><thead style='background-color: white'><tr><th>dest</th><th>origin</th><th>flights</th></tr></thead><tbody><tr><td>United States</td><td>null</td><td>1</td></tr><tr><td>United States</td><td>null</td><td>12</td></tr><tr><td>United States</td><td>null</td><td>2</td></tr><tr><td>United States</td><td>Ireland</td><td>291</td></tr><tr><td>United States</td><td>India</td><td>62</td></tr><tr><td>Egypt</td><td>null</td><td>11</td></tr><tr><td>United States</td><td>Grenada</td><td>47</td></tr><tr><td>Costa Rica</td><td>United States</td><td>529</td></tr><tr><td>Senegal</td><td>United States</td><td>35</td></tr><tr><td>United States</td><td>Sint Maarten</td><td>290</td></tr><tr><td>Guyana</td><td>United States</td><td>52</td></tr><tr><td>United States</td><td>Marshall Islands</td><td>35</td></tr><tr><td>Malta</td><td>United States</td><td>2</td></tr><tr><td>Malawi</td><td>United States</td><td>1</td></tr><tr><td>Bolivia</td><td>United States</td><td>33</td></tr></tbody></table></div>"
      ]
     },
     "metadata": {
      "application/vnd.databricks.v1+output": {
       "addedWidgets": {},
       "aggData": [],
       "aggError": "",
       "aggOverflow": false,
       "aggSchema": [],
       "aggSeriesLimitReached": false,
       "aggType": "",
       "arguments": {},
       "columnCustomDisplayInfos": {},
       "data": [
        [
         "United States",
         null,
         1
        ],
        [
         "United States",
         null,
         12
        ],
        [
         "United States",
         null,
         2
        ],
        [
         "United States",
         "Ireland",
         291
        ],
        [
         "United States",
         "India",
         62
        ],
        [
         "Egypt",
         null,
         11
        ],
        [
         "United States",
         "Grenada",
         47
        ],
        [
         "Costa Rica",
         "United States",
         529
        ],
        [
         "Senegal",
         "United States",
         35
        ],
        [
         "United States",
         "Sint Maarten",
         290
        ],
        [
         "Guyana",
         "United States",
         52
        ],
        [
         "United States",
         "Marshall Islands",
         35
        ],
        [
         "Malta",
         "United States",
         2
        ],
        [
         "Malawi",
         "United States",
         1
        ],
        [
         "Bolivia",
         "United States",
         33
        ]
       ],
       "datasetInfos": [],
       "dbfsResultPath": null,
       "isJsonSchema": true,
       "metadata": {},
       "overflow": false,
       "plotOptions": {
        "customPlotOptions": {},
        "displayType": "table",
        "pivotAggregation": null,
        "pivotColumns": null,
        "xColumns": null,
        "yColumns": null
       },
       "removedWidgets": [],
       "schema": [
        {
         "metadata": "{}",
         "name": "dest",
         "type": "\"string\""
        },
        {
         "metadata": "{}",
         "name": "origin",
         "type": "\"string\""
        },
        {
         "metadata": "{}",
         "name": "flights",
         "type": "\"integer\""
        }
       ],
       "type": "table"
      }
     },
     "output_type": "display_data"
    }
   ],
   "source": [
    "df = df.withColumn(\n",
    "    \"origin\",\n",
    "    F.when((F.col(\"dest\").isin([\"Costa Rica\", \"United States\"])) & (F.col(\"flights\") < 26) , F.lit(None)).otherwise(F.col(\"origin\"))\n",
    ")\n",
    "\n",
    "display(df.limit(15))"
   ]
  },
  {
   "cell_type": "code",
   "execution_count": 0,
   "metadata": {
    "application/vnd.databricks.v1+cell": {
     "cellMetadata": {
      "byteLimit": 2048000,
      "rowLimit": 10000
     },
     "inputWidgets": {},
     "nuid": "ea5a24df-d110-4298-9fb4-43f3204dd022",
     "showTitle": false,
     "tableResultSettingsMap": {},
     "title": ""
    }
   },
   "outputs": [
    {
     "output_type": "display_data",
     "data": {
      "text/html": [
       "<style scoped>\n",
       "  .table-result-container {\n",
       "    max-height: 300px;\n",
       "    overflow: auto;\n",
       "  }\n",
       "  table, th, td {\n",
       "    border: 1px solid black;\n",
       "    border-collapse: collapse;\n",
       "  }\n",
       "  th, td {\n",
       "    padding: 5px;\n",
       "  }\n",
       "  th {\n",
       "    text-align: left;\n",
       "  }\n",
       "</style><div class='table-result-container'><table class='table-result'><thead style='background-color: white'><tr><th>dest</th><th>origin</th><th>flights</th></tr></thead><tbody><tr><td>United States</td><td>Ireland</td><td>291</td></tr><tr><td>United States</td><td>India</td><td>62</td></tr><tr><td>United States</td><td>Grenada</td><td>47</td></tr><tr><td>Costa Rica</td><td>United States</td><td>529</td></tr><tr><td>Senegal</td><td>United States</td><td>35</td></tr><tr><td>United States</td><td>Sint Maarten</td><td>290</td></tr><tr><td>Guyana</td><td>United States</td><td>52</td></tr><tr><td>United States</td><td>Marshall Islands</td><td>35</td></tr><tr><td>Malta</td><td>United States</td><td>2</td></tr><tr><td>Malawi</td><td>United States</td><td>1</td></tr></tbody></table></div>"
      ]
     },
     "metadata": {
      "application/vnd.databricks.v1+output": {
       "addedWidgets": {},
       "aggData": [],
       "aggError": "",
       "aggOverflow": false,
       "aggSchema": [],
       "aggSeriesLimitReached": false,
       "aggType": "",
       "arguments": {},
       "columnCustomDisplayInfos": {},
       "data": [
        [
         "United States",
         "Ireland",
         291
        ],
        [
         "United States",
         "India",
         62
        ],
        [
         "United States",
         "Grenada",
         47
        ],
        [
         "Costa Rica",
         "United States",
         529
        ],
        [
         "Senegal",
         "United States",
         35
        ],
        [
         "United States",
         "Sint Maarten",
         290
        ],
        [
         "Guyana",
         "United States",
         52
        ],
        [
         "United States",
         "Marshall Islands",
         35
        ],
        [
         "Malta",
         "United States",
         2
        ],
        [
         "Malawi",
         "United States",
         1
        ]
       ],
       "datasetInfos": [],
       "dbfsResultPath": null,
       "isJsonSchema": true,
       "metadata": {},
       "overflow": false,
       "plotOptions": {
        "customPlotOptions": {},
        "displayType": "table",
        "pivotAggregation": null,
        "pivotColumns": null,
        "xColumns": null,
        "yColumns": null
       },
       "removedWidgets": [],
       "schema": [
        {
         "metadata": "{}",
         "name": "dest",
         "type": "\"string\""
        },
        {
         "metadata": "{}",
         "name": "origin",
         "type": "\"string\""
        },
        {
         "metadata": "{}",
         "name": "flights",
         "type": "\"integer\""
        }
       ],
       "type": "table"
      }
     },
     "output_type": "display_data"
    }
   ],
   "source": [
    "display(df.na.drop().limit(10))"
   ]
  },
  {
   "cell_type": "code",
   "execution_count": 0,
   "metadata": {
    "application/vnd.databricks.v1+cell": {
     "cellMetadata": {
      "byteLimit": 2048000,
      "rowLimit": 10000
     },
     "inputWidgets": {},
     "nuid": "468ecbf3-0cf2-44de-86a5-64bd45b12021",
     "showTitle": false,
     "tableResultSettingsMap": {},
     "title": ""
    }
   },
   "outputs": [
    {
     "output_type": "display_data",
     "data": {
      "text/html": [
       "<style scoped>\n",
       "  .table-result-container {\n",
       "    max-height: 300px;\n",
       "    overflow: auto;\n",
       "  }\n",
       "  table, th, td {\n",
       "    border: 1px solid black;\n",
       "    border-collapse: collapse;\n",
       "  }\n",
       "  th, td {\n",
       "    padding: 5px;\n",
       "  }\n",
       "  th {\n",
       "    text-align: left;\n",
       "  }\n",
       "</style><div class='table-result-container'><table class='table-result'><thead style='background-color: white'><tr><th>dest</th><th>origin</th><th>flights</th></tr></thead><tbody><tr><td>United States</td><td>Ireland</td><td>291</td></tr><tr><td>United States</td><td>India</td><td>62</td></tr><tr><td>United States</td><td>Grenada</td><td>47</td></tr><tr><td>Costa Rica</td><td>United States</td><td>529</td></tr><tr><td>Senegal</td><td>United States</td><td>35</td></tr><tr><td>United States</td><td>Sint Maarten</td><td>290</td></tr><tr><td>Guyana</td><td>United States</td><td>52</td></tr><tr><td>United States</td><td>Marshall Islands</td><td>35</td></tr><tr><td>Malta</td><td>United States</td><td>2</td></tr><tr><td>Malawi</td><td>United States</td><td>1</td></tr></tbody></table></div>"
      ]
     },
     "metadata": {
      "application/vnd.databricks.v1+output": {
       "addedWidgets": {},
       "aggData": [],
       "aggError": "",
       "aggOverflow": false,
       "aggSchema": [],
       "aggSeriesLimitReached": false,
       "aggType": "",
       "arguments": {},
       "columnCustomDisplayInfos": {},
       "data": [
        [
         "United States",
         "Ireland",
         291
        ],
        [
         "United States",
         "India",
         62
        ],
        [
         "United States",
         "Grenada",
         47
        ],
        [
         "Costa Rica",
         "United States",
         529
        ],
        [
         "Senegal",
         "United States",
         35
        ],
        [
         "United States",
         "Sint Maarten",
         290
        ],
        [
         "Guyana",
         "United States",
         52
        ],
        [
         "United States",
         "Marshall Islands",
         35
        ],
        [
         "Malta",
         "United States",
         2
        ],
        [
         "Malawi",
         "United States",
         1
        ]
       ],
       "datasetInfos": [],
       "dbfsResultPath": null,
       "isJsonSchema": true,
       "metadata": {},
       "overflow": false,
       "plotOptions": {
        "customPlotOptions": {},
        "displayType": "table",
        "pivotAggregation": null,
        "pivotColumns": null,
        "xColumns": null,
        "yColumns": null
       },
       "removedWidgets": [],
       "schema": [
        {
         "metadata": "{}",
         "name": "dest",
         "type": "\"string\""
        },
        {
         "metadata": "{}",
         "name": "origin",
         "type": "\"string\""
        },
        {
         "metadata": "{}",
         "name": "flights",
         "type": "\"integer\""
        }
       ],
       "type": "table"
      }
     },
     "output_type": "display_data"
    }
   ],
   "source": [
    "display(df.dropna().limit(10))"
   ]
  },
  {
   "cell_type": "code",
   "execution_count": 0,
   "metadata": {
    "application/vnd.databricks.v1+cell": {
     "cellMetadata": {
      "byteLimit": 2048000,
      "rowLimit": 10000
     },
     "inputWidgets": {},
     "nuid": "9399cd2f-3843-4857-9652-afd46bb2ec25",
     "showTitle": false,
     "tableResultSettingsMap": {},
     "title": ""
    }
   },
   "outputs": [
    {
     "output_type": "display_data",
     "data": {
      "text/html": [
       "<style scoped>\n",
       "  .table-result-container {\n",
       "    max-height: 300px;\n",
       "    overflow: auto;\n",
       "  }\n",
       "  table, th, td {\n",
       "    border: 1px solid black;\n",
       "    border-collapse: collapse;\n",
       "  }\n",
       "  th, td {\n",
       "    padding: 5px;\n",
       "  }\n",
       "  th {\n",
       "    text-align: left;\n",
       "  }\n",
       "</style><div class='table-result-container'><table class='table-result'><thead style='background-color: white'><tr><th>dest</th><th>origin</th><th>flights</th></tr></thead><tbody><tr><td>United States</td><td>Dont know!!</td><td>1</td></tr><tr><td>United States</td><td>Dont know!!</td><td>12</td></tr><tr><td>United States</td><td>Dont know!!</td><td>2</td></tr><tr><td>United States</td><td>Ireland</td><td>291</td></tr><tr><td>United States</td><td>India</td><td>62</td></tr><tr><td>Egypt</td><td>Dont know!!</td><td>11</td></tr><tr><td>United States</td><td>Grenada</td><td>47</td></tr><tr><td>Costa Rica</td><td>United States</td><td>529</td></tr><tr><td>Senegal</td><td>United States</td><td>35</td></tr><tr><td>United States</td><td>Sint Maarten</td><td>290</td></tr><tr><td>Guyana</td><td>United States</td><td>52</td></tr><tr><td>United States</td><td>Marshall Islands</td><td>35</td></tr><tr><td>Malta</td><td>United States</td><td>2</td></tr><tr><td>Malawi</td><td>United States</td><td>1</td></tr><tr><td>Bolivia</td><td>United States</td><td>33</td></tr><tr><td>Anguilla</td><td>United States</td><td>34</td></tr><tr><td>Algeria</td><td>United States</td><td>9</td></tr><tr><td>United States</td><td>Dont know!!</td><td>14</td></tr><tr><td>Gibraltar</td><td>United States</td><td>1</td></tr><tr><td>Turks and Caicos Islands</td><td>United States</td><td>193</td></tr></tbody></table></div>"
      ]
     },
     "metadata": {
      "application/vnd.databricks.v1+output": {
       "addedWidgets": {},
       "aggData": [],
       "aggError": "",
       "aggOverflow": false,
       "aggSchema": [],
       "aggSeriesLimitReached": false,
       "aggType": "",
       "arguments": {},
       "columnCustomDisplayInfos": {},
       "data": [
        [
         "United States",
         "Dont know!!",
         1
        ],
        [
         "United States",
         "Dont know!!",
         12
        ],
        [
         "United States",
         "Dont know!!",
         2
        ],
        [
         "United States",
         "Ireland",
         291
        ],
        [
         "United States",
         "India",
         62
        ],
        [
         "Egypt",
         "Dont know!!",
         11
        ],
        [
         "United States",
         "Grenada",
         47
        ],
        [
         "Costa Rica",
         "United States",
         529
        ],
        [
         "Senegal",
         "United States",
         35
        ],
        [
         "United States",
         "Sint Maarten",
         290
        ],
        [
         "Guyana",
         "United States",
         52
        ],
        [
         "United States",
         "Marshall Islands",
         35
        ],
        [
         "Malta",
         "United States",
         2
        ],
        [
         "Malawi",
         "United States",
         1
        ],
        [
         "Bolivia",
         "United States",
         33
        ],
        [
         "Anguilla",
         "United States",
         34
        ],
        [
         "Algeria",
         "United States",
         9
        ],
        [
         "United States",
         "Dont know!!",
         14
        ],
        [
         "Gibraltar",
         "United States",
         1
        ],
        [
         "Turks and Caicos Islands",
         "United States",
         193
        ]
       ],
       "datasetInfos": [],
       "dbfsResultPath": null,
       "isJsonSchema": true,
       "metadata": {},
       "overflow": false,
       "plotOptions": {
        "customPlotOptions": {},
        "displayType": "table",
        "pivotAggregation": null,
        "pivotColumns": null,
        "xColumns": null,
        "yColumns": null
       },
       "removedWidgets": [],
       "schema": [
        {
         "metadata": "{}",
         "name": "dest",
         "type": "\"string\""
        },
        {
         "metadata": "{}",
         "name": "origin",
         "type": "\"string\""
        },
        {
         "metadata": "{}",
         "name": "flights",
         "type": "\"integer\""
        }
       ],
       "type": "table"
      }
     },
     "output_type": "display_data"
    }
   ],
   "source": [
    "display(df.fillna({\"origin\": \"Dont know!!\"}).limit(20))"
   ]
  },
  {
   "cell_type": "code",
   "execution_count": 0,
   "metadata": {
    "application/vnd.databricks.v1+cell": {
     "cellMetadata": {
      "byteLimit": 2048000,
      "rowLimit": 10000
     },
     "inputWidgets": {},
     "nuid": "de80706f-0d4b-4290-8b34-7e6dbe6a5b66",
     "showTitle": false,
     "tableResultSettingsMap": {},
     "title": ""
    }
   },
   "outputs": [
    {
     "output_type": "display_data",
     "data": {
      "text/html": [
       "<style scoped>\n",
       "  .table-result-container {\n",
       "    max-height: 300px;\n",
       "    overflow: auto;\n",
       "  }\n",
       "  table, th, td {\n",
       "    border: 1px solid black;\n",
       "    border-collapse: collapse;\n",
       "  }\n",
       "  th, td {\n",
       "    padding: 5px;\n",
       "  }\n",
       "  th {\n",
       "    text-align: left;\n",
       "  }\n",
       "</style><div class='table-result-container'><table class='table-result'><thead style='background-color: white'><tr><th>dest</th><th>origin</th><th>flights</th></tr></thead><tbody><tr><td>United States</td><td>null</td><td>1</td></tr><tr><td>United States</td><td>null</td><td>12</td></tr><tr><td>United States</td><td>null</td><td>2</td></tr><tr><td>United States</td><td>Ireland</td><td>291</td></tr><tr><td>United States</td><td>India</td><td>62</td></tr><tr><td>Egypt</td><td>null</td><td>11</td></tr><tr><td>United States</td><td>Grenada</td><td>47</td></tr><tr><td>Costa Rica</td><td>United States</td><td>529</td></tr><tr><td>Senegal</td><td>United States</td><td>35</td></tr><tr><td>United States</td><td>Sint Maarten</td><td>290</td></tr></tbody></table></div>"
      ]
     },
     "metadata": {
      "application/vnd.databricks.v1+output": {
       "addedWidgets": {},
       "aggData": [],
       "aggError": "",
       "aggOverflow": false,
       "aggSchema": [],
       "aggSeriesLimitReached": false,
       "aggType": "",
       "arguments": {},
       "columnCustomDisplayInfos": {},
       "data": [
        [
         "United States",
         null,
         1
        ],
        [
         "United States",
         null,
         12
        ],
        [
         "United States",
         null,
         2
        ],
        [
         "United States",
         "Ireland",
         291
        ],
        [
         "United States",
         "India",
         62
        ],
        [
         "Egypt",
         null,
         11
        ],
        [
         "United States",
         "Grenada",
         47
        ],
        [
         "Costa Rica",
         "United States",
         529
        ],
        [
         "Senegal",
         "United States",
         35
        ],
        [
         "United States",
         "Sint Maarten",
         290
        ]
       ],
       "datasetInfos": [],
       "dbfsResultPath": null,
       "isJsonSchema": true,
       "metadata": {},
       "overflow": false,
       "plotOptions": {
        "customPlotOptions": {},
        "displayType": "table",
        "pivotAggregation": null,
        "pivotColumns": null,
        "xColumns": null,
        "yColumns": null
       },
       "removedWidgets": [],
       "schema": [
        {
         "metadata": "{}",
         "name": "dest",
         "type": "\"string\""
        },
        {
         "metadata": "{}",
         "name": "origin",
         "type": "\"string\""
        },
        {
         "metadata": "{}",
         "name": "flights",
         "type": "\"integer\""
        }
       ],
       "type": "table"
      }
     },
     "output_type": "display_data"
    }
   ],
   "source": [
    "\n",
    "\n",
    "display(df.na.replace([\"Gibraltar\"], None).limit(10))\n",
    "     \n"
   ]
  },
  {
   "cell_type": "code",
   "execution_count": 0,
   "metadata": {
    "application/vnd.databricks.v1+cell": {
     "cellMetadata": {
      "byteLimit": 2048000,
      "rowLimit": 10000
     },
     "inputWidgets": {},
     "nuid": "039d89ac-63ac-4d74-a87b-0ee8318bafb0",
     "showTitle": false,
     "tableResultSettingsMap": {},
     "title": ""
    }
   },
   "outputs": [
    {
     "output_type": "display_data",
     "data": {
      "text/html": [
       "<style scoped>\n",
       "  .table-result-container {\n",
       "    max-height: 300px;\n",
       "    overflow: auto;\n",
       "  }\n",
       "  table, th, td {\n",
       "    border: 1px solid black;\n",
       "    border-collapse: collapse;\n",
       "  }\n",
       "  th, td {\n",
       "    padding: 5px;\n",
       "  }\n",
       "  th {\n",
       "    text-align: left;\n",
       "  }\n",
       "</style><div class='table-result-container'><table class='table-result'><thead style='background-color: white'><tr><th>dest</th><th>origin</th><th>flights</th></tr></thead><tbody><tr><td>HAHHAHHAHAHA!</td><td>null</td><td>1</td></tr><tr><td>HAHHAHHAHAHA!</td><td>null</td><td>12</td></tr><tr><td>HAHHAHHAHAHA!</td><td>null</td><td>2</td></tr><tr><td>HAHHAHHAHAHA!</td><td>Ireland</td><td>291</td></tr><tr><td>HAHHAHHAHAHA!</td><td>India</td><td>62</td></tr><tr><td>Egypt</td><td>null</td><td>11</td></tr><tr><td>HAHHAHHAHAHA!</td><td>HAHHAHHAHAHA!</td><td>47</td></tr><tr><td>Costa Rica</td><td>HAHHAHHAHAHA!</td><td>529</td></tr><tr><td>Senegal</td><td>HAHHAHHAHAHA!</td><td>35</td></tr><tr><td>HAHHAHHAHAHA!</td><td>Sint Maarten</td><td>290</td></tr></tbody></table></div>"
      ]
     },
     "metadata": {
      "application/vnd.databricks.v1+output": {
       "addedWidgets": {},
       "aggData": [],
       "aggError": "",
       "aggOverflow": false,
       "aggSchema": [],
       "aggSeriesLimitReached": false,
       "aggType": "",
       "arguments": {},
       "columnCustomDisplayInfos": {},
       "data": [
        [
         "HAHHAHHAHAHA!",
         null,
         1
        ],
        [
         "HAHHAHHAHAHA!",
         null,
         12
        ],
        [
         "HAHHAHHAHAHA!",
         null,
         2
        ],
        [
         "HAHHAHHAHAHA!",
         "Ireland",
         291
        ],
        [
         "HAHHAHHAHAHA!",
         "India",
         62
        ],
        [
         "Egypt",
         null,
         11
        ],
        [
         "HAHHAHHAHAHA!",
         "HAHHAHHAHAHA!",
         47
        ],
        [
         "Costa Rica",
         "HAHHAHHAHAHA!",
         529
        ],
        [
         "Senegal",
         "HAHHAHHAHAHA!",
         35
        ],
        [
         "HAHHAHHAHAHA!",
         "Sint Maarten",
         290
        ]
       ],
       "datasetInfos": [],
       "dbfsResultPath": null,
       "isJsonSchema": true,
       "metadata": {},
       "overflow": false,
       "plotOptions": {
        "customPlotOptions": {},
        "displayType": "table",
        "pivotAggregation": null,
        "pivotColumns": null,
        "xColumns": null,
        "yColumns": null
       },
       "removedWidgets": [],
       "schema": [
        {
         "metadata": "{}",
         "name": "dest",
         "type": "\"string\""
        },
        {
         "metadata": "{}",
         "name": "origin",
         "type": "\"string\""
        },
        {
         "metadata": "{}",
         "name": "flights",
         "type": "\"integer\""
        }
       ],
       "type": "table"
      }
     },
     "output_type": "display_data"
    }
   ],
   "source": [
    "\n",
    "\n",
    "display(df.replace([\"United States\", \"Grenada\"], \"HAHHAHHAHAHA!\").limit(10))\n",
    "     \n"
   ]
  },
  {
   "cell_type": "code",
   "execution_count": 0,
   "metadata": {
    "application/vnd.databricks.v1+cell": {
     "cellMetadata": {
      "byteLimit": 2048000,
      "rowLimit": 10000
     },
     "inputWidgets": {},
     "nuid": "f0e2270d-3b1f-4264-92de-1fb01db5d409",
     "showTitle": false,
     "tableResultSettingsMap": {},
     "title": ""
    }
   },
   "outputs": [
    {
     "output_type": "display_data",
     "data": {
      "text/html": [
       "<style scoped>\n",
       "  .table-result-container {\n",
       "    max-height: 300px;\n",
       "    overflow: auto;\n",
       "  }\n",
       "  table, th, td {\n",
       "    border: 1px solid black;\n",
       "    border-collapse: collapse;\n",
       "  }\n",
       "  th, td {\n",
       "    padding: 5px;\n",
       "  }\n",
       "  th {\n",
       "    text-align: left;\n",
       "  }\n",
       "</style><div class='table-result-container'><table class='table-result'><thead style='background-color: white'><tr><th>dest</th><th>origin</th><th>flights</th></tr></thead><tbody><tr><td>United States</td><td>null</td><td>1</td></tr><tr><td>United States</td><td>null</td><td>12</td></tr><tr><td>United States</td><td>null</td><td>2</td></tr><tr><td>United States</td><td>Ireland</td><td>291</td></tr><tr><td>United States</td><td>India</td><td>62</td></tr><tr><td>Egypt</td><td>null</td><td>11</td></tr><tr><td>United States</td><td>Grenada</td><td>47</td></tr><tr><td>Costa Rica</td><td>United States</td><td>529</td></tr><tr><td>Senegal</td><td>United States</td><td>35</td></tr><tr><td>United States</td><td>Sint Maarten</td><td>290</td></tr><tr><td>Guyana</td><td>United States</td><td>52</td></tr><tr><td>United States</td><td>Marshall Islands</td><td>35</td></tr><tr><td>Malta</td><td>United States</td><td>2</td></tr><tr><td>Malawi</td><td>United States</td><td>1</td></tr><tr><td>Bolivia</td><td>United States</td><td>33</td></tr><tr><td>Anguilla</td><td>United States</td><td>34</td></tr><tr><td>Algeria</td><td>United States</td><td>9</td></tr><tr><td>United States</td><td>null</td><td>14</td></tr><tr><td>Gibraltar</td><td>United States</td><td>1</td></tr><tr><td>Turks and Caicos Islands</td><td>United States</td><td>193</td></tr><tr><td>Saint Vincent and the Grenadines</td><td>United States</td><td>1</td></tr><tr><td>United States</td><td>Russia</td><td>151</td></tr><tr><td>Italy</td><td>United States</td><td>366</td></tr><tr><td>Pakistan</td><td>United States</td><td>12</td></tr><tr><td>United States</td><td>Federated States of Micronesia</td><td>71</td></tr><tr><td>Iceland</td><td>United States</td><td>150</td></tr><tr><td>United States</td><td>Netherlands</td><td>702</td></tr><tr><td>Marshall Islands</td><td>United States</td><td>46</td></tr><tr><td>Luxembourg</td><td>United States</td><td>161</td></tr><tr><td>Honduras</td><td>United States</td><td>411</td></tr><tr><td>The Bahamas</td><td>United States</td><td>950</td></tr><tr><td>El Salvador</td><td>United States</td><td>572</td></tr><tr><td>United States</td><td>Senegal</td><td>28</td></tr><tr><td>Samoa</td><td>United States</td><td>24</td></tr><tr><td>United States</td><td>null</td><td>12</td></tr><tr><td>Kazakhstan</td><td>United States</td><td>1</td></tr><tr><td>Switzerland</td><td>United States</td><td>302</td></tr><tr><td>United States</td><td>Anguilla</td><td>35</td></tr><tr><td>Sint Maarten</td><td>United States</td><td>290</td></tr><tr><td>Hong Kong</td><td>United States</td><td>338</td></tr><tr><td>United States</td><td>null</td><td>1</td></tr><tr><td>Latvia</td><td>United States</td><td>40</td></tr><tr><td>Trinidad and Tobago</td><td>United States</td><td>188</td></tr><tr><td>United States</td><td>Ecuador</td><td>326</td></tr><tr><td>Slovakia</td><td>United States</td><td>1</td></tr><tr><td>Suriname</td><td>United States</td><td>10</td></tr><tr><td>Mexico</td><td>United States</td><td>6427</td></tr><tr><td>Ecuador</td><td>United States</td><td>256</td></tr><tr><td>United States</td><td>Portugal</td><td>122</td></tr><tr><td>United States</td><td>Guatemala</td><td>327</td></tr><tr><td>United States</td><td>Costa Rica</td><td>560</td></tr><tr><td>United States</td><td>Suriname</td><td>27</td></tr><tr><td>Colombia</td><td>United States</td><td>872</td></tr><tr><td>United States</td><td>null</td><td>16</td></tr><tr><td>United States</td><td>Jamaica</td><td>714</td></tr><tr><td>Norway</td><td>United States</td><td>86</td></tr><tr><td>United States</td><td>null</td><td>15</td></tr><tr><td>Venezuela</td><td>United States</td><td>335</td></tr><tr><td>United States</td><td>null</td><td>25</td></tr><tr><td>United States</td><td>Palau</td><td>38</td></tr><tr><td>United States</td><td>Venezuela</td><td>258</td></tr><tr><td>Panama</td><td>United States</td><td>456</td></tr><tr><td>United States</td><td>Chile</td><td>168</td></tr><tr><td>United States</td><td>null</td><td>19</td></tr><tr><td>Antigua and Barbuda</td><td>United States</td><td>115</td></tr><tr><td>Morocco</td><td>United States</td><td>18</td></tr><tr><td>United States</td><td>null</td><td>19</td></tr><tr><td>Azerbaijan</td><td>United States</td><td>7</td></tr><tr><td>United States</td><td>The Bahamas</td><td>991</td></tr><tr><td>New Zealand</td><td>United States</td><td>114</td></tr><tr><td>Liberia</td><td>United States</td><td>3</td></tr><tr><td>United States</td><td>Hong Kong</td><td>381</td></tr><tr><td>Hungary</td><td>United States</td><td>2</td></tr><tr><td>United States</td><td>null</td><td>1</td></tr><tr><td>United States</td><td>China</td><td>767</td></tr><tr><td>Burkina Faso</td><td>United States</td><td>2</td></tr><tr><td>Sweden</td><td>United States</td><td>94</td></tr><tr><td>United States</td><td>null</td><td>24</td></tr><tr><td>United States</td><td>Dominican Republic</td><td>1282</td></tr><tr><td>United States</td><td>null</td><td>11</td></tr><tr><td>Israel</td><td>United States</td><td>108</td></tr><tr><td>United States</td><td>United States</td><td>358354</td></tr><tr><td>United States</td><td>Luxembourg</td><td>115</td></tr><tr><td>Ethiopia</td><td>United States</td><td>11</td></tr><tr><td>United States</td><td>Poland</td><td>33</td></tr><tr><td>Martinique</td><td>United States</td><td>31</td></tr><tr><td>United States</td><td>Saint Barthelemy</td><td>53</td></tr><tr><td>Saint Barthelemy</td><td>United States</td><td>53</td></tr><tr><td>United States</td><td>Turkey</td><td>92</td></tr><tr><td>Barbados</td><td>United States</td><td>102</td></tr><tr><td>United States</td><td>null</td><td>1</td></tr><tr><td>United States</td><td>null</td><td>5</td></tr><tr><td>Germany</td><td>United States</td><td>1391</td></tr><tr><td>United States</td><td>South Korea</td><td>754</td></tr><tr><td>United States</td><td>El Salvador</td><td>486</td></tr><tr><td>Ireland</td><td>United States</td><td>267</td></tr><tr><td>United States</td><td>null</td><td>1</td></tr><tr><td>Malaysia</td><td>United States</td><td>2</td></tr><tr><td>United States</td><td>Panama</td><td>460</td></tr><tr><td>United States</td><td>Aruba</td><td>348</td></tr><tr><td>United States</td><td>null</td><td>11</td></tr><tr><td>United States</td><td>Turks and Caicos Islands</td><td>204</td></tr><tr><td>United States</td><td>null</td><td>12</td></tr><tr><td>United States</td><td>Honduras</td><td>412</td></tr><tr><td>Fiji</td><td>United States</td><td>25</td></tr><tr><td>Qatar</td><td>United States</td><td>95</td></tr><tr><td>Saint Kitts and Nevis</td><td>United States</td><td>118</td></tr><tr><td>Haiti</td><td>United States</td><td>201</td></tr><tr><td>Taiwan</td><td>United States</td><td>265</td></tr><tr><td>Kuwait</td><td>United States</td><td>24</td></tr><tr><td>Canada</td><td>United States</td><td>7974</td></tr><tr><td>Federated States of Micronesia</td><td>United States</td><td>60</td></tr><tr><td>Jamaica</td><td>United States</td><td>673</td></tr><tr><td>United States</td><td>null</td><td>2</td></tr><tr><td>Dominican Republic</td><td>United States</td><td>1230</td></tr><tr><td>Japan</td><td>United States</td><td>1591</td></tr><tr><td>United States</td><td>null</td><td>3</td></tr><tr><td>Finland</td><td>United States</td><td>18</td></tr><tr><td>United States</td><td>null</td><td>1</td></tr><tr><td>United States</td><td>Guadeloupe</td><td>47</td></tr><tr><td>United States</td><td>France</td><td>960</td></tr><tr><td>Aruba</td><td>United States</td><td>351</td></tr><tr><td>United States</td><td>Norway</td><td>87</td></tr><tr><td>French Guiana</td><td>United States</td><td>11</td></tr><tr><td>United States</td><td>Kiribati</td><td>27</td></tr><tr><td>India</td><td>United States</td><td>61</td></tr><tr><td>British Virgin Islands</td><td>United States</td><td>108</td></tr><tr><td>Brazil</td><td>United States</td><td>927</td></tr><tr><td>United States</td><td>Germany</td><td>1343</td></tr><tr><td>United States</td><td>New Zealand</td><td>77</td></tr><tr><td>United States</td><td>null</td><td>1</td></tr><tr><td>French Polynesia</td><td>United States</td><td>39</td></tr><tr><td>United Arab Emirates</td><td>United States</td><td>247</td></tr><tr><td>United States</td><td>Mexico</td><td>6490</td></tr><tr><td>Netherlands</td><td>United States</td><td>773</td></tr><tr><td>United States</td><td>Sweden</td><td>101</td></tr><tr><td>United States</td><td>Martinique</td><td>32</td></tr><tr><td>United States</td><td>United Arab Emirates</td><td>226</td></tr><tr><td>United States</td><td>null</td><td>1</td></tr><tr><td>Denmark</td><td>United States</td><td>114</td></tr><tr><td>China</td><td>United States</td><td>653</td></tr><tr><td>United States</td><td>Nicaragua</td><td>170</td></tr><tr><td>United States</td><td>Philippines</td><td>116</td></tr><tr><td>United States</td><td>Belgium</td><td>230</td></tr><tr><td>Peru</td><td>United States</td><td>277</td></tr><tr><td>Argentina</td><td>United States</td><td>195</td></tr><tr><td>Cayman Islands</td><td>United States</td><td>283</td></tr><tr><td>South Africa</td><td>United States</td><td>32</td></tr><tr><td>United States</td><td>Argentina</td><td>153</td></tr><tr><td>United States</td><td>Iceland</td><td>177</td></tr><tr><td>Chad</td><td>United States</td><td>1</td></tr><tr><td>Spain</td><td>United States</td><td>388</td></tr><tr><td>Bermuda</td><td>United States</td><td>185</td></tr><tr><td>United States</td><td>Nigeria</td><td>43</td></tr><tr><td>United States</td><td>Austria</td><td>46</td></tr><tr><td>United States</td><td>Bonaire, Sint Eustatius, and Saba</td><td>63</td></tr><tr><td>Kiribati</td><td>United States</td><td>26</td></tr><tr><td>Saudi Arabia</td><td>United States</td><td>79</td></tr><tr><td>Czech Republic</td><td>United States</td><td>11</td></tr><tr><td>Macau</td><td>United States</td><td>3</td></tr><tr><td>Belgium</td><td>United States</td><td>259</td></tr><tr><td>United States</td><td>Israel</td><td>112</td></tr><tr><td>United States</td><td>Saint Lucia</td><td>109</td></tr><tr><td>United States</td><td>British Virgin Islands</td><td>101</td></tr><tr><td>Curacao</td><td>United States</td><td>74</td></tr><tr><td>United States</td><td>Denmark</td><td>116</td></tr><tr><td>United States</td><td>Guyana</td><td>55</td></tr><tr><td>Philippines</td><td>United States</td><td>134</td></tr><tr><td>Grenada</td><td>United States</td><td>43</td></tr><tr><td>Cape Verde</td><td>United States</td><td>24</td></tr><tr><td>Ukraine</td><td>United States</td><td>11</td></tr><tr><td>Russia</td><td>United States</td><td>213</td></tr><tr><td>United States</td><td>Saudi Arabia</td><td>74</td></tr><tr><td>Guatemala</td><td>United States</td><td>383</td></tr><tr><td>Saint Lucia</td><td>United States</td><td>107</td></tr><tr><td>Paraguay</td><td>United States</td><td>90</td></tr><tr><td>United States</td><td>Curacao</td><td>77</td></tr><tr><td>United States</td><td>Taiwan</td><td>240</td></tr><tr><td>Tunisia</td><td>United States</td><td>2</td></tr><tr><td>United States</td><td>South Africa</td><td>32</td></tr><tr><td>Turkey</td><td>United States</td><td>91</td></tr><tr><td>United Kingdom</td><td>United States</td><td>1912</td></tr><tr><td>Romania</td><td>United States</td><td>11</td></tr><tr><td>United States</td><td>null</td><td>1</td></tr><tr><td>United States</td><td>Spain</td><td>424</td></tr><tr><td>Cuba</td><td>United States</td><td>417</td></tr><tr><td>United States</td><td>Italy</td><td>385</td></tr><tr><td>United States</td><td>Switzerland</td><td>300</td></tr><tr><td>Dominica</td><td>United States</td><td>25</td></tr><tr><td>United States</td><td>Japan</td><td>1501</td></tr><tr><td>Portugal</td><td>United States</td><td>124</td></tr><tr><td>United States</td><td>Brazil</td><td>578</td></tr><tr><td>Bahrain</td><td>United States</td><td>41</td></tr><tr><td>United States</td><td>Peru</td><td>315</td></tr><tr><td>Indonesia</td><td>United States</td><td>1</td></tr><tr><td>United States</td><td>United Kingdom</td><td>1812</td></tr><tr><td>United States</td><td>Belize</td><td>143</td></tr><tr><td>Belize</td><td>United States</td><td>142</td></tr><tr><td>United States</td><td>null</td><td>15</td></tr><tr><td>Mauritania</td><td>United States</td><td>1</td></tr><tr><td>United States</td><td>null</td><td>1</td></tr><tr><td>United States</td><td>Fiji</td><td>27</td></tr><tr><td>United States</td><td>Canada</td><td>8177</td></tr><tr><td>United States</td><td>Antigua and Barbuda</td><td>112</td></tr><tr><td>United States</td><td>French Polynesia</td><td>40</td></tr><tr><td>Nicaragua</td><td>United States</td><td>168</td></tr><tr><td>United States</td><td>null</td><td>13</td></tr><tr><td>United States</td><td>Dominica</td><td>36</td></tr><tr><td>United States</td><td>null</td><td>11</td></tr><tr><td>United States</td><td>null</td><td>12</td></tr><tr><td>United States</td><td>Australia</td><td>235</td></tr><tr><td>Austria</td><td>United States</td><td>47</td></tr><tr><td>Jordan</td><td>United States</td><td>65</td></tr><tr><td>Palau</td><td>United States</td><td>38</td></tr><tr><td>South Korea</td><td>United States</td><td>968</td></tr><tr><td>Angola</td><td>United States</td><td>13</td></tr><tr><td>Ghana</td><td>United States</td><td>13</td></tr><tr><td>Guadeloupe</td><td>United States</td><td>43</td></tr><tr><td>France</td><td>United States</td><td>966</td></tr><tr><td>Poland</td><td>United States</td><td>35</td></tr><tr><td>Nigeria</td><td>United States</td><td>49</td></tr><tr><td>United States</td><td>null</td><td>18</td></tr><tr><td>Greenland</td><td>United States</td><td>2</td></tr><tr><td>Chile</td><td>United States</td><td>156</td></tr><tr><td>United States</td><td>Bermuda</td><td>190</td></tr><tr><td>United States</td><td>Cuba</td><td>419</td></tr><tr><td>United States</td><td>Qatar</td><td>96</td></tr><tr><td>United States</td><td>Colombia</td><td>888</td></tr><tr><td>United States</td><td>Barbados</td><td>89</td></tr><tr><td>Australia</td><td>United States</td><td>293</td></tr><tr><td>United States</td><td>Cayman Islands</td><td>278</td></tr><tr><td>United States</td><td>Jordan</td><td>64</td></tr><tr><td>United States</td><td>Trinidad and Tobago</td><td>175</td></tr><tr><td>United States</td><td>null</td><td>14</td></tr><tr><td>Uruguay</td><td>United States</td><td>60</td></tr><tr><td>Cook Islands</td><td>United States</td><td>12</td></tr><tr><td>United States</td><td>null</td><td>4</td></tr><tr><td>United States</td><td>Saint Kitts and Nevis</td><td>123</td></tr><tr><td>United States</td><td>Haiti</td><td>193</td></tr><tr><td>Bonaire, Sint Eustatius, and Saba</td><td>United States</td><td>62</td></tr><tr><td>Greece</td><td>United States</td><td>20</td></tr></tbody></table></div>"
      ]
     },
     "metadata": {
      "application/vnd.databricks.v1+output": {
       "addedWidgets": {},
       "aggData": [],
       "aggError": "",
       "aggOverflow": false,
       "aggSchema": [],
       "aggSeriesLimitReached": false,
       "aggType": "",
       "arguments": {},
       "columnCustomDisplayInfos": {},
       "data": [
        [
         "United States",
         null,
         1
        ],
        [
         "United States",
         null,
         12
        ],
        [
         "United States",
         null,
         2
        ],
        [
         "United States",
         "Ireland",
         291
        ],
        [
         "United States",
         "India",
         62
        ],
        [
         "Egypt",
         null,
         11
        ],
        [
         "United States",
         "Grenada",
         47
        ],
        [
         "Costa Rica",
         "United States",
         529
        ],
        [
         "Senegal",
         "United States",
         35
        ],
        [
         "United States",
         "Sint Maarten",
         290
        ],
        [
         "Guyana",
         "United States",
         52
        ],
        [
         "United States",
         "Marshall Islands",
         35
        ],
        [
         "Malta",
         "United States",
         2
        ],
        [
         "Malawi",
         "United States",
         1
        ],
        [
         "Bolivia",
         "United States",
         33
        ],
        [
         "Anguilla",
         "United States",
         34
        ],
        [
         "Algeria",
         "United States",
         9
        ],
        [
         "United States",
         null,
         14
        ],
        [
         "Gibraltar",
         "United States",
         1
        ],
        [
         "Turks and Caicos Islands",
         "United States",
         193
        ],
        [
         "Saint Vincent and the Grenadines",
         "United States",
         1
        ],
        [
         "United States",
         "Russia",
         151
        ],
        [
         "Italy",
         "United States",
         366
        ],
        [
         "Pakistan",
         "United States",
         12
        ],
        [
         "United States",
         "Federated States of Micronesia",
         71
        ],
        [
         "Iceland",
         "United States",
         150
        ],
        [
         "United States",
         "Netherlands",
         702
        ],
        [
         "Marshall Islands",
         "United States",
         46
        ],
        [
         "Luxembourg",
         "United States",
         161
        ],
        [
         "Honduras",
         "United States",
         411
        ],
        [
         "The Bahamas",
         "United States",
         950
        ],
        [
         "El Salvador",
         "United States",
         572
        ],
        [
         "United States",
         "Senegal",
         28
        ],
        [
         "Samoa",
         "United States",
         24
        ],
        [
         "United States",
         null,
         12
        ],
        [
         "Kazakhstan",
         "United States",
         1
        ],
        [
         "Switzerland",
         "United States",
         302
        ],
        [
         "United States",
         "Anguilla",
         35
        ],
        [
         "Sint Maarten",
         "United States",
         290
        ],
        [
         "Hong Kong",
         "United States",
         338
        ],
        [
         "United States",
         null,
         1
        ],
        [
         "Latvia",
         "United States",
         40
        ],
        [
         "Trinidad and Tobago",
         "United States",
         188
        ],
        [
         "United States",
         "Ecuador",
         326
        ],
        [
         "Slovakia",
         "United States",
         1
        ],
        [
         "Suriname",
         "United States",
         10
        ],
        [
         "Mexico",
         "United States",
         6427
        ],
        [
         "Ecuador",
         "United States",
         256
        ],
        [
         "United States",
         "Portugal",
         122
        ],
        [
         "United States",
         "Guatemala",
         327
        ],
        [
         "United States",
         "Costa Rica",
         560
        ],
        [
         "United States",
         "Suriname",
         27
        ],
        [
         "Colombia",
         "United States",
         872
        ],
        [
         "United States",
         null,
         16
        ],
        [
         "United States",
         "Jamaica",
         714
        ],
        [
         "Norway",
         "United States",
         86
        ],
        [
         "United States",
         null,
         15
        ],
        [
         "Venezuela",
         "United States",
         335
        ],
        [
         "United States",
         null,
         25
        ],
        [
         "United States",
         "Palau",
         38
        ],
        [
         "United States",
         "Venezuela",
         258
        ],
        [
         "Panama",
         "United States",
         456
        ],
        [
         "United States",
         "Chile",
         168
        ],
        [
         "United States",
         null,
         19
        ],
        [
         "Antigua and Barbuda",
         "United States",
         115
        ],
        [
         "Morocco",
         "United States",
         18
        ],
        [
         "United States",
         null,
         19
        ],
        [
         "Azerbaijan",
         "United States",
         7
        ],
        [
         "United States",
         "The Bahamas",
         991
        ],
        [
         "New Zealand",
         "United States",
         114
        ],
        [
         "Liberia",
         "United States",
         3
        ],
        [
         "United States",
         "Hong Kong",
         381
        ],
        [
         "Hungary",
         "United States",
         2
        ],
        [
         "United States",
         null,
         1
        ],
        [
         "United States",
         "China",
         767
        ],
        [
         "Burkina Faso",
         "United States",
         2
        ],
        [
         "Sweden",
         "United States",
         94
        ],
        [
         "United States",
         null,
         24
        ],
        [
         "United States",
         "Dominican Republic",
         1282
        ],
        [
         "United States",
         null,
         11
        ],
        [
         "Israel",
         "United States",
         108
        ],
        [
         "United States",
         "United States",
         358354
        ],
        [
         "United States",
         "Luxembourg",
         115
        ],
        [
         "Ethiopia",
         "United States",
         11
        ],
        [
         "United States",
         "Poland",
         33
        ],
        [
         "Martinique",
         "United States",
         31
        ],
        [
         "United States",
         "Saint Barthelemy",
         53
        ],
        [
         "Saint Barthelemy",
         "United States",
         53
        ],
        [
         "United States",
         "Turkey",
         92
        ],
        [
         "Barbados",
         "United States",
         102
        ],
        [
         "United States",
         null,
         1
        ],
        [
         "United States",
         null,
         5
        ],
        [
         "Germany",
         "United States",
         1391
        ],
        [
         "United States",
         "South Korea",
         754
        ],
        [
         "United States",
         "El Salvador",
         486
        ],
        [
         "Ireland",
         "United States",
         267
        ],
        [
         "United States",
         null,
         1
        ],
        [
         "Malaysia",
         "United States",
         2
        ],
        [
         "United States",
         "Panama",
         460
        ],
        [
         "United States",
         "Aruba",
         348
        ],
        [
         "United States",
         null,
         11
        ],
        [
         "United States",
         "Turks and Caicos Islands",
         204
        ],
        [
         "United States",
         null,
         12
        ],
        [
         "United States",
         "Honduras",
         412
        ],
        [
         "Fiji",
         "United States",
         25
        ],
        [
         "Qatar",
         "United States",
         95
        ],
        [
         "Saint Kitts and Nevis",
         "United States",
         118
        ],
        [
         "Haiti",
         "United States",
         201
        ],
        [
         "Taiwan",
         "United States",
         265
        ],
        [
         "Kuwait",
         "United States",
         24
        ],
        [
         "Canada",
         "United States",
         7974
        ],
        [
         "Federated States of Micronesia",
         "United States",
         60
        ],
        [
         "Jamaica",
         "United States",
         673
        ],
        [
         "United States",
         null,
         2
        ],
        [
         "Dominican Republic",
         "United States",
         1230
        ],
        [
         "Japan",
         "United States",
         1591
        ],
        [
         "United States",
         null,
         3
        ],
        [
         "Finland",
         "United States",
         18
        ],
        [
         "United States",
         null,
         1
        ],
        [
         "United States",
         "Guadeloupe",
         47
        ],
        [
         "United States",
         "France",
         960
        ],
        [
         "Aruba",
         "United States",
         351
        ],
        [
         "United States",
         "Norway",
         87
        ],
        [
         "French Guiana",
         "United States",
         11
        ],
        [
         "United States",
         "Kiribati",
         27
        ],
        [
         "India",
         "United States",
         61
        ],
        [
         "British Virgin Islands",
         "United States",
         108
        ],
        [
         "Brazil",
         "United States",
         927
        ],
        [
         "United States",
         "Germany",
         1343
        ],
        [
         "United States",
         "New Zealand",
         77
        ],
        [
         "United States",
         null,
         1
        ],
        [
         "French Polynesia",
         "United States",
         39
        ],
        [
         "United Arab Emirates",
         "United States",
         247
        ],
        [
         "United States",
         "Mexico",
         6490
        ],
        [
         "Netherlands",
         "United States",
         773
        ],
        [
         "United States",
         "Sweden",
         101
        ],
        [
         "United States",
         "Martinique",
         32
        ],
        [
         "United States",
         "United Arab Emirates",
         226
        ],
        [
         "United States",
         null,
         1
        ],
        [
         "Denmark",
         "United States",
         114
        ],
        [
         "China",
         "United States",
         653
        ],
        [
         "United States",
         "Nicaragua",
         170
        ],
        [
         "United States",
         "Philippines",
         116
        ],
        [
         "United States",
         "Belgium",
         230
        ],
        [
         "Peru",
         "United States",
         277
        ],
        [
         "Argentina",
         "United States",
         195
        ],
        [
         "Cayman Islands",
         "United States",
         283
        ],
        [
         "South Africa",
         "United States",
         32
        ],
        [
         "United States",
         "Argentina",
         153
        ],
        [
         "United States",
         "Iceland",
         177
        ],
        [
         "Chad",
         "United States",
         1
        ],
        [
         "Spain",
         "United States",
         388
        ],
        [
         "Bermuda",
         "United States",
         185
        ],
        [
         "United States",
         "Nigeria",
         43
        ],
        [
         "United States",
         "Austria",
         46
        ],
        [
         "United States",
         "Bonaire, Sint Eustatius, and Saba",
         63
        ],
        [
         "Kiribati",
         "United States",
         26
        ],
        [
         "Saudi Arabia",
         "United States",
         79
        ],
        [
         "Czech Republic",
         "United States",
         11
        ],
        [
         "Macau",
         "United States",
         3
        ],
        [
         "Belgium",
         "United States",
         259
        ],
        [
         "United States",
         "Israel",
         112
        ],
        [
         "United States",
         "Saint Lucia",
         109
        ],
        [
         "United States",
         "British Virgin Islands",
         101
        ],
        [
         "Curacao",
         "United States",
         74
        ],
        [
         "United States",
         "Denmark",
         116
        ],
        [
         "United States",
         "Guyana",
         55
        ],
        [
         "Philippines",
         "United States",
         134
        ],
        [
         "Grenada",
         "United States",
         43
        ],
        [
         "Cape Verde",
         "United States",
         24
        ],
        [
         "Ukraine",
         "United States",
         11
        ],
        [
         "Russia",
         "United States",
         213
        ],
        [
         "United States",
         "Saudi Arabia",
         74
        ],
        [
         "Guatemala",
         "United States",
         383
        ],
        [
         "Saint Lucia",
         "United States",
         107
        ],
        [
         "Paraguay",
         "United States",
         90
        ],
        [
         "United States",
         "Curacao",
         77
        ],
        [
         "United States",
         "Taiwan",
         240
        ],
        [
         "Tunisia",
         "United States",
         2
        ],
        [
         "United States",
         "South Africa",
         32
        ],
        [
         "Turkey",
         "United States",
         91
        ],
        [
         "United Kingdom",
         "United States",
         1912
        ],
        [
         "Romania",
         "United States",
         11
        ],
        [
         "United States",
         null,
         1
        ],
        [
         "United States",
         "Spain",
         424
        ],
        [
         "Cuba",
         "United States",
         417
        ],
        [
         "United States",
         "Italy",
         385
        ],
        [
         "United States",
         "Switzerland",
         300
        ],
        [
         "Dominica",
         "United States",
         25
        ],
        [
         "United States",
         "Japan",
         1501
        ],
        [
         "Portugal",
         "United States",
         124
        ],
        [
         "United States",
         "Brazil",
         578
        ],
        [
         "Bahrain",
         "United States",
         41
        ],
        [
         "United States",
         "Peru",
         315
        ],
        [
         "Indonesia",
         "United States",
         1
        ],
        [
         "United States",
         "United Kingdom",
         1812
        ],
        [
         "United States",
         "Belize",
         143
        ],
        [
         "Belize",
         "United States",
         142
        ],
        [
         "United States",
         null,
         15
        ],
        [
         "Mauritania",
         "United States",
         1
        ],
        [
         "United States",
         null,
         1
        ],
        [
         "United States",
         "Fiji",
         27
        ],
        [
         "United States",
         "Canada",
         8177
        ],
        [
         "United States",
         "Antigua and Barbuda",
         112
        ],
        [
         "United States",
         "French Polynesia",
         40
        ],
        [
         "Nicaragua",
         "United States",
         168
        ],
        [
         "United States",
         null,
         13
        ],
        [
         "United States",
         "Dominica",
         36
        ],
        [
         "United States",
         null,
         11
        ],
        [
         "United States",
         null,
         12
        ],
        [
         "United States",
         "Australia",
         235
        ],
        [
         "Austria",
         "United States",
         47
        ],
        [
         "Jordan",
         "United States",
         65
        ],
        [
         "Palau",
         "United States",
         38
        ],
        [
         "South Korea",
         "United States",
         968
        ],
        [
         "Angola",
         "United States",
         13
        ],
        [
         "Ghana",
         "United States",
         13
        ],
        [
         "Guadeloupe",
         "United States",
         43
        ],
        [
         "France",
         "United States",
         966
        ],
        [
         "Poland",
         "United States",
         35
        ],
        [
         "Nigeria",
         "United States",
         49
        ],
        [
         "United States",
         null,
         18
        ],
        [
         "Greenland",
         "United States",
         2
        ],
        [
         "Chile",
         "United States",
         156
        ],
        [
         "United States",
         "Bermuda",
         190
        ],
        [
         "United States",
         "Cuba",
         419
        ],
        [
         "United States",
         "Qatar",
         96
        ],
        [
         "United States",
         "Colombia",
         888
        ],
        [
         "United States",
         "Barbados",
         89
        ],
        [
         "Australia",
         "United States",
         293
        ],
        [
         "United States",
         "Cayman Islands",
         278
        ],
        [
         "United States",
         "Jordan",
         64
        ],
        [
         "United States",
         "Trinidad and Tobago",
         175
        ],
        [
         "United States",
         null,
         14
        ],
        [
         "Uruguay",
         "United States",
         60
        ],
        [
         "Cook Islands",
         "United States",
         12
        ],
        [
         "United States",
         null,
         4
        ],
        [
         "United States",
         "Saint Kitts and Nevis",
         123
        ],
        [
         "United States",
         "Haiti",
         193
        ],
        [
         "Bonaire, Sint Eustatius, and Saba",
         "United States",
         62
        ],
        [
         "Greece",
         "United States",
         20
        ]
       ],
       "datasetInfos": [],
       "dbfsResultPath": null,
       "isJsonSchema": true,
       "metadata": {},
       "overflow": false,
       "plotOptions": {
        "customPlotOptions": {},
        "displayType": "table",
        "pivotAggregation": null,
        "pivotColumns": null,
        "xColumns": null,
        "yColumns": null
       },
       "removedWidgets": [],
       "schema": [
        {
         "metadata": "{}",
         "name": "dest",
         "type": "\"string\""
        },
        {
         "metadata": "{}",
         "name": "origin",
         "type": "\"string\""
        },
        {
         "metadata": "{}",
         "name": "flights",
         "type": "\"integer\""
        }
       ],
       "type": "table"
      }
     },
     "output_type": "display_data"
    }
   ],
   "source": [
    "display(df)"
   ]
  },
  {
   "cell_type": "code",
   "execution_count": 0,
   "metadata": {
    "application/vnd.databricks.v1+cell": {
     "cellMetadata": {
      "byteLimit": 2048000,
      "rowLimit": 10000
     },
     "inputWidgets": {},
     "nuid": "9da2df5c-c2f7-49b0-9fe9-7db33f7d9236",
     "showTitle": false,
     "tableResultSettingsMap": {},
     "title": ""
    }
   },
   "outputs": [
    {
     "output_type": "display_data",
     "data": {
      "text/html": [
       "<style scoped>\n",
       "  .table-result-container {\n",
       "    max-height: 300px;\n",
       "    overflow: auto;\n",
       "  }\n",
       "  table, th, td {\n",
       "    border: 1px solid black;\n",
       "    border-collapse: collapse;\n",
       "  }\n",
       "  th, td {\n",
       "    padding: 5px;\n",
       "  }\n",
       "  th {\n",
       "    text-align: left;\n",
       "  }\n",
       "</style><div class='table-result-container'><table class='table-result'><thead style='background-color: white'><tr><th>dest</th><th>origin</th><th>flights</th><th>random_id</th></tr></thead><tbody><tr><td>United States</td><td>null</td><td>1</td><td>List(0.3134637733888256, 0.9422142301844121)</td></tr><tr><td>United States</td><td>null</td><td>12</td><td>List(0.7820705088730814, 0.7644455123283133)</td></tr><tr><td>United States</td><td>null</td><td>2</td><td>List(0.619245151049554, 0.3913669294963834)</td></tr><tr><td>United States</td><td>Ireland</td><td>291</td><td>List(0.17523687526358134, 0.015299388620546694)</td></tr><tr><td>United States</td><td>India</td><td>62</td><td>List(0.5703592125997655, 0.43305257955516785)</td></tr><tr><td>Egypt</td><td>null</td><td>11</td><td>List(0.7425546912906434, 0.1773088284833959)</td></tr><tr><td>United States</td><td>Grenada</td><td>47</td><td>List(0.578538529428439, 0.48192888800907074)</td></tr><tr><td>Costa Rica</td><td>United States</td><td>529</td><td>List(0.8704776205794721, 0.3762023015479772)</td></tr><tr><td>Senegal</td><td>United States</td><td>35</td><td>List(0.9798923715483692, 0.7886756741064661)</td></tr><tr><td>United States</td><td>Sint Maarten</td><td>290</td><td>List(0.19418382991287775, 0.6863130310088759)</td></tr></tbody></table></div>"
      ]
     },
     "metadata": {
      "application/vnd.databricks.v1+output": {
       "addedWidgets": {},
       "aggData": [],
       "aggError": "",
       "aggOverflow": false,
       "aggSchema": [],
       "aggSeriesLimitReached": false,
       "aggType": "",
       "arguments": {},
       "columnCustomDisplayInfos": {},
       "data": [
        [
         "United States",
         null,
         1,
         [
          0.3134637733888256,
          0.9422142301844121
         ]
        ],
        [
         "United States",
         null,
         12,
         [
          0.7820705088730814,
          0.7644455123283133
         ]
        ],
        [
         "United States",
         null,
         2,
         [
          0.619245151049554,
          0.3913669294963834
         ]
        ],
        [
         "United States",
         "Ireland",
         291,
         [
          0.17523687526358134,
          0.015299388620546694
         ]
        ],
        [
         "United States",
         "India",
         62,
         [
          0.5703592125997655,
          0.43305257955516785
         ]
        ],
        [
         "Egypt",
         null,
         11,
         [
          0.7425546912906434,
          0.1773088284833959
         ]
        ],
        [
         "United States",
         "Grenada",
         47,
         [
          0.578538529428439,
          0.48192888800907074
         ]
        ],
        [
         "Costa Rica",
         "United States",
         529,
         [
          0.8704776205794721,
          0.3762023015479772
         ]
        ],
        [
         "Senegal",
         "United States",
         35,
         [
          0.9798923715483692,
          0.7886756741064661
         ]
        ],
        [
         "United States",
         "Sint Maarten",
         290,
         [
          0.19418382991287775,
          0.6863130310088759
         ]
        ]
       ],
       "datasetInfos": [],
       "dbfsResultPath": null,
       "isJsonSchema": true,
       "metadata": {},
       "overflow": false,
       "plotOptions": {
        "customPlotOptions": {},
        "displayType": "table",
        "pivotAggregation": null,
        "pivotColumns": null,
        "xColumns": null,
        "yColumns": null
       },
       "removedWidgets": [],
       "schema": [
        {
         "metadata": "{}",
         "name": "dest",
         "type": "\"string\""
        },
        {
         "metadata": "{}",
         "name": "origin",
         "type": "\"string\""
        },
        {
         "metadata": "{}",
         "name": "flights",
         "type": "\"integer\""
        },
        {
         "metadata": "{}",
         "name": "random_id",
         "type": "{\"type\":\"array\",\"elementType\":\"double\",\"containsNull\":false}"
        }
       ],
       "type": "table"
      }
     },
     "output_type": "display_data"
    }
   ],
   "source": [
    "\n",
    "\n",
    "df_t = df.withColumn(\n",
    "    \"random_id\",\n",
    "    F.array(F.rand(), F.rand())\n",
    ")\n",
    "\n",
    "display(df_t.limit(10))\n",
    "     \n"
   ]
  },
  {
   "cell_type": "code",
   "execution_count": 0,
   "metadata": {
    "application/vnd.databricks.v1+cell": {
     "cellMetadata": {
      "byteLimit": 2048000,
      "rowLimit": 10000
     },
     "inputWidgets": {},
     "nuid": "b4e1ced0-5633-48cb-a003-4393c0a6ff71",
     "showTitle": false,
     "tableResultSettingsMap": {},
     "title": ""
    }
   },
   "outputs": [
    {
     "output_type": "display_data",
     "data": {
      "text/html": [
       "<style scoped>\n",
       "  .table-result-container {\n",
       "    max-height: 300px;\n",
       "    overflow: auto;\n",
       "  }\n",
       "  table, th, td {\n",
       "    border: 1px solid black;\n",
       "    border-collapse: collapse;\n",
       "  }\n",
       "  th, td {\n",
       "    padding: 5px;\n",
       "  }\n",
       "  th {\n",
       "    text-align: left;\n",
       "  }\n",
       "</style><div class='table-result-container'><table class='table-result'><thead style='background-color: white'><tr><th>dest</th><th>origin</th><th>flights</th><th>col</th></tr></thead><tbody><tr><td>United States</td><td>null</td><td>1</td><td>0.3134637733888256</td></tr><tr><td>United States</td><td>null</td><td>1</td><td>0.9422142301844121</td></tr><tr><td>United States</td><td>null</td><td>12</td><td>0.7820705088730814</td></tr><tr><td>United States</td><td>null</td><td>12</td><td>0.7644455123283133</td></tr><tr><td>United States</td><td>null</td><td>2</td><td>0.619245151049554</td></tr><tr><td>United States</td><td>null</td><td>2</td><td>0.3913669294963834</td></tr><tr><td>United States</td><td>Ireland</td><td>291</td><td>0.17523687526358134</td></tr><tr><td>United States</td><td>Ireland</td><td>291</td><td>0.015299388620546694</td></tr><tr><td>United States</td><td>India</td><td>62</td><td>0.5703592125997655</td></tr><tr><td>United States</td><td>India</td><td>62</td><td>0.43305257955516785</td></tr></tbody></table></div>"
      ]
     },
     "metadata": {
      "application/vnd.databricks.v1+output": {
       "addedWidgets": {},
       "aggData": [],
       "aggError": "",
       "aggOverflow": false,
       "aggSchema": [],
       "aggSeriesLimitReached": false,
       "aggType": "",
       "arguments": {},
       "columnCustomDisplayInfos": {},
       "data": [
        [
         "United States",
         null,
         1,
         0.3134637733888256
        ],
        [
         "United States",
         null,
         1,
         0.9422142301844121
        ],
        [
         "United States",
         null,
         12,
         0.7820705088730814
        ],
        [
         "United States",
         null,
         12,
         0.7644455123283133
        ],
        [
         "United States",
         null,
         2,
         0.619245151049554
        ],
        [
         "United States",
         null,
         2,
         0.3913669294963834
        ],
        [
         "United States",
         "Ireland",
         291,
         0.17523687526358134
        ],
        [
         "United States",
         "Ireland",
         291,
         0.015299388620546694
        ],
        [
         "United States",
         "India",
         62,
         0.5703592125997655
        ],
        [
         "United States",
         "India",
         62,
         0.43305257955516785
        ]
       ],
       "datasetInfos": [],
       "dbfsResultPath": null,
       "isJsonSchema": true,
       "metadata": {},
       "overflow": false,
       "plotOptions": {
        "customPlotOptions": {},
        "displayType": "table",
        "pivotAggregation": null,
        "pivotColumns": null,
        "xColumns": null,
        "yColumns": null
       },
       "removedWidgets": [],
       "schema": [
        {
         "metadata": "{}",
         "name": "dest",
         "type": "\"string\""
        },
        {
         "metadata": "{}",
         "name": "origin",
         "type": "\"string\""
        },
        {
         "metadata": "{}",
         "name": "flights",
         "type": "\"integer\""
        },
        {
         "metadata": "{}",
         "name": "col",
         "type": "\"double\""
        }
       ],
       "type": "table"
      }
     },
     "output_type": "display_data"
    }
   ],
   "source": [
    "display(df_t.select(\"*\", F.explode(F.col(\"random_id\").alias(\"rid\"))).drop(\"random_id\").limit(10))"
   ]
  },
  {
   "cell_type": "code",
   "execution_count": 0,
   "metadata": {
    "application/vnd.databricks.v1+cell": {
     "cellMetadata": {
      "byteLimit": 2048000,
      "rowLimit": 10000
     },
     "inputWidgets": {},
     "nuid": "369eaede-10d5-415e-af43-03c9eebaea67",
     "showTitle": false,
     "tableResultSettingsMap": {},
     "title": ""
    }
   },
   "outputs": [
    {
     "output_type": "display_data",
     "data": {
      "text/html": [
       "<style scoped>\n",
       "  .table-result-container {\n",
       "    max-height: 300px;\n",
       "    overflow: auto;\n",
       "  }\n",
       "  table, th, td {\n",
       "    border: 1px solid black;\n",
       "    border-collapse: collapse;\n",
       "  }\n",
       "  th, td {\n",
       "    padding: 5px;\n",
       "  }\n",
       "  th {\n",
       "    text-align: left;\n",
       "  }\n",
       "</style><div class='table-result-container'><table class='table-result'><thead style='background-color: white'><tr><th>dest</th><th>origin</th><th>flights</th><th>dest_no_vowel</th></tr></thead><tbody><tr><td>United States</td><td>null</td><td>1</td><td>Und Ss</td></tr><tr><td>United States</td><td>null</td><td>12</td><td>Und Ss</td></tr><tr><td>United States</td><td>null</td><td>2</td><td>Und Ss</td></tr><tr><td>United States</td><td>Ireland</td><td>291</td><td>Und Ss</td></tr><tr><td>United States</td><td>India</td><td>62</td><td>Und Ss</td></tr><tr><td>Egypt</td><td>null</td><td>11</td><td>Egp</td></tr><tr><td>United States</td><td>Grenada</td><td>47</td><td>Und Ss</td></tr><tr><td>Costa Rica</td><td>United States</td><td>529</td><td>Cs Rc</td></tr><tr><td>Senegal</td><td>United States</td><td>35</td><td>Sngl</td></tr><tr><td>United States</td><td>Sint Maarten</td><td>290</td><td>Und Ss</td></tr></tbody></table></div>"
      ]
     },
     "metadata": {
      "application/vnd.databricks.v1+output": {
       "addedWidgets": {},
       "aggData": [],
       "aggError": "",
       "aggOverflow": false,
       "aggSchema": [],
       "aggSeriesLimitReached": false,
       "aggType": "",
       "arguments": {},
       "columnCustomDisplayInfos": {},
       "data": [
        [
         "United States",
         null,
         1,
         "Und Ss"
        ],
        [
         "United States",
         null,
         12,
         "Und Ss"
        ],
        [
         "United States",
         null,
         2,
         "Und Ss"
        ],
        [
         "United States",
         "Ireland",
         291,
         "Und Ss"
        ],
        [
         "United States",
         "India",
         62,
         "Und Ss"
        ],
        [
         "Egypt",
         null,
         11,
         "Egp"
        ],
        [
         "United States",
         "Grenada",
         47,
         "Und Ss"
        ],
        [
         "Costa Rica",
         "United States",
         529,
         "Cs Rc"
        ],
        [
         "Senegal",
         "United States",
         35,
         "Sngl"
        ],
        [
         "United States",
         "Sint Maarten",
         290,
         "Und Ss"
        ]
       ],
       "datasetInfos": [],
       "dbfsResultPath": null,
       "isJsonSchema": true,
       "metadata": {},
       "overflow": false,
       "plotOptions": {
        "customPlotOptions": {},
        "displayType": "table",
        "pivotAggregation": null,
        "pivotColumns": null,
        "xColumns": null,
        "yColumns": null
       },
       "removedWidgets": [],
       "schema": [
        {
         "metadata": "{}",
         "name": "dest",
         "type": "\"string\""
        },
        {
         "metadata": "{}",
         "name": "origin",
         "type": "\"string\""
        },
        {
         "metadata": "{}",
         "name": "flights",
         "type": "\"integer\""
        },
        {
         "metadata": "{}",
         "name": "dest_no_vowel",
         "type": "\"string\""
        }
       ],
       "type": "table"
      }
     },
     "output_type": "display_data"
    }
   ],
   "source": [
    "\n",
    "\n",
    "df = df.withColumn(\n",
    "    \"dest_no_vowel\",\n",
    "    F.regexp_replace(\"dest\", r\"[bartekouiy]\", \"\")\n",
    ")\n",
    "\n",
    "display(df.limit(10))\n",
    "     \n"
   ]
  },
  {
   "cell_type": "code",
   "execution_count": 0,
   "metadata": {
    "application/vnd.databricks.v1+cell": {
     "cellMetadata": {
      "byteLimit": 2048000,
      "rowLimit": 10000
     },
     "inputWidgets": {},
     "nuid": "a62f0e8d-a5fa-4d7f-9bbb-04863dc99d71",
     "showTitle": false,
     "tableResultSettingsMap": {},
     "title": ""
    }
   },
   "outputs": [
    {
     "output_type": "display_data",
     "data": {
      "text/html": [
       "<style scoped>\n",
       "  .table-result-container {\n",
       "    max-height: 300px;\n",
       "    overflow: auto;\n",
       "  }\n",
       "  table, th, td {\n",
       "    border: 1px solid black;\n",
       "    border-collapse: collapse;\n",
       "  }\n",
       "  th, td {\n",
       "    padding: 5px;\n",
       "  }\n",
       "  th {\n",
       "    text-align: left;\n",
       "  }\n",
       "</style><div class='table-result-container'><table class='table-result'><thead style='background-color: white'><tr><th>dest</th><th>origin</th><th>flights</th><th>dest_no_vowel</th><th>dest_last2_first2</th></tr></thead><tbody><tr><td>United States</td><td>null</td><td>1</td><td>Und Ss</td><td>ed St</td></tr><tr><td>United States</td><td>null</td><td>12</td><td>Und Ss</td><td>ed St</td></tr><tr><td>United States</td><td>null</td><td>2</td><td>Und Ss</td><td>ed St</td></tr><tr><td>United States</td><td>Ireland</td><td>291</td><td>Und Ss</td><td>ed St</td></tr><tr><td>United States</td><td>India</td><td>62</td><td>Und Ss</td><td>ed St</td></tr><tr><td>Egypt</td><td>null</td><td>11</td><td>Egp</td><td></td></tr><tr><td>United States</td><td>Grenada</td><td>47</td><td>Und Ss</td><td>ed St</td></tr><tr><td>Costa Rica</td><td>United States</td><td>529</td><td>Cs Rc</td><td>ta Ri</td></tr><tr><td>Senegal</td><td>United States</td><td>35</td><td>Sngl</td><td></td></tr><tr><td>United States</td><td>Sint Maarten</td><td>290</td><td>Und Ss</td><td>ed St</td></tr></tbody></table></div>"
      ]
     },
     "metadata": {
      "application/vnd.databricks.v1+output": {
       "addedWidgets": {},
       "aggData": [],
       "aggError": "",
       "aggOverflow": false,
       "aggSchema": [],
       "aggSeriesLimitReached": false,
       "aggType": "",
       "arguments": {},
       "columnCustomDisplayInfos": {},
       "data": [
        [
         "United States",
         null,
         1,
         "Und Ss",
         "ed St"
        ],
        [
         "United States",
         null,
         12,
         "Und Ss",
         "ed St"
        ],
        [
         "United States",
         null,
         2,
         "Und Ss",
         "ed St"
        ],
        [
         "United States",
         "Ireland",
         291,
         "Und Ss",
         "ed St"
        ],
        [
         "United States",
         "India",
         62,
         "Und Ss",
         "ed St"
        ],
        [
         "Egypt",
         null,
         11,
         "Egp",
         ""
        ],
        [
         "United States",
         "Grenada",
         47,
         "Und Ss",
         "ed St"
        ],
        [
         "Costa Rica",
         "United States",
         529,
         "Cs Rc",
         "ta Ri"
        ],
        [
         "Senegal",
         "United States",
         35,
         "Sngl",
         ""
        ],
        [
         "United States",
         "Sint Maarten",
         290,
         "Und Ss",
         "ed St"
        ]
       ],
       "datasetInfos": [],
       "dbfsResultPath": null,
       "isJsonSchema": true,
       "metadata": {},
       "overflow": false,
       "plotOptions": {
        "customPlotOptions": {},
        "displayType": "table",
        "pivotAggregation": null,
        "pivotColumns": null,
        "xColumns": null,
        "yColumns": null
       },
       "removedWidgets": [],
       "schema": [
        {
         "metadata": "{}",
         "name": "dest",
         "type": "\"string\""
        },
        {
         "metadata": "{}",
         "name": "origin",
         "type": "\"string\""
        },
        {
         "metadata": "{}",
         "name": "flights",
         "type": "\"integer\""
        },
        {
         "metadata": "{}",
         "name": "dest_no_vowel",
         "type": "\"string\""
        },
        {
         "metadata": "{}",
         "name": "dest_last2_first2",
         "type": "\"string\""
        }
       ],
       "type": "table"
      }
     },
     "output_type": "display_data"
    }
   ],
   "source": [
    "df = df.withColumn(\n",
    "    \"dest_last2_first2\",\n",
    "    F.regexp_extract(\"dest\", r\".{2}\\ .{2}\", 0)\n",
    ")\n",
    "\n",
    "display(df.limit(10))"
   ]
  },
  {
   "cell_type": "code",
   "execution_count": 0,
   "metadata": {
    "application/vnd.databricks.v1+cell": {
     "cellMetadata": {
      "byteLimit": 2048000,
      "rowLimit": 10000
     },
     "inputWidgets": {},
     "nuid": "7598f503-4cf9-413b-a597-b2011365fd29",
     "showTitle": false,
     "tableResultSettingsMap": {},
     "title": ""
    }
   },
   "outputs": [
    {
     "output_type": "display_data",
     "data": {
      "text/html": [
       "<style scoped>\n",
       "  .table-result-container {\n",
       "    max-height: 300px;\n",
       "    overflow: auto;\n",
       "  }\n",
       "  table, th, td {\n",
       "    border: 1px solid black;\n",
       "    border-collapse: collapse;\n",
       "  }\n",
       "  th, td {\n",
       "    padding: 5px;\n",
       "  }\n",
       "  th {\n",
       "    text-align: left;\n",
       "  }\n",
       "</style><div class='table-result-container'><table class='table-result'><thead style='background-color: white'><tr><th>dest</th><th>origin</th><th>flights</th><th>dest_no_vowel</th><th>dest_last2_first2</th><th>temp_origin</th></tr></thead><tbody><tr><td>United States</td><td>null</td><td>1</td><td>Und Ss</td><td>ed St</td><td>Dont know!!</td></tr><tr><td>United States</td><td>null</td><td>12</td><td>Und Ss</td><td>ed St</td><td>Dont know!!</td></tr><tr><td>United States</td><td>null</td><td>2</td><td>Und Ss</td><td>ed St</td><td>Dont know!!</td></tr><tr><td>United States</td><td>Ireland</td><td>291</td><td>Und Ss</td><td>ed St</td><td>Ireland</td></tr><tr><td>United States</td><td>India</td><td>62</td><td>Und Ss</td><td>ed St</td><td>India</td></tr><tr><td>Egypt</td><td>null</td><td>11</td><td>Egp</td><td></td><td>Dont know!!</td></tr><tr><td>United States</td><td>Grenada</td><td>47</td><td>Und Ss</td><td>ed St</td><td>Grenada</td></tr><tr><td>Costa Rica</td><td>United States</td><td>529</td><td>Cs Rc</td><td>ta Ri</td><td>United States</td></tr><tr><td>Senegal</td><td>United States</td><td>35</td><td>Sngl</td><td></td><td>United States</td></tr><tr><td>United States</td><td>Sint Maarten</td><td>290</td><td>Und Ss</td><td>ed St</td><td>Sint Maarten</td></tr></tbody></table></div>"
      ]
     },
     "metadata": {
      "application/vnd.databricks.v1+output": {
       "addedWidgets": {},
       "aggData": [],
       "aggError": "",
       "aggOverflow": false,
       "aggSchema": [],
       "aggSeriesLimitReached": false,
       "aggType": "",
       "arguments": {},
       "columnCustomDisplayInfos": {},
       "data": [
        [
         "United States",
         null,
         1,
         "Und Ss",
         "ed St",
         "Dont know!!"
        ],
        [
         "United States",
         null,
         12,
         "Und Ss",
         "ed St",
         "Dont know!!"
        ],
        [
         "United States",
         null,
         2,
         "Und Ss",
         "ed St",
         "Dont know!!"
        ],
        [
         "United States",
         "Ireland",
         291,
         "Und Ss",
         "ed St",
         "Ireland"
        ],
        [
         "United States",
         "India",
         62,
         "Und Ss",
         "ed St",
         "India"
        ],
        [
         "Egypt",
         null,
         11,
         "Egp",
         "",
         "Dont know!!"
        ],
        [
         "United States",
         "Grenada",
         47,
         "Und Ss",
         "ed St",
         "Grenada"
        ],
        [
         "Costa Rica",
         "United States",
         529,
         "Cs Rc",
         "ta Ri",
         "United States"
        ],
        [
         "Senegal",
         "United States",
         35,
         "Sngl",
         "",
         "United States"
        ],
        [
         "United States",
         "Sint Maarten",
         290,
         "Und Ss",
         "ed St",
         "Sint Maarten"
        ]
       ],
       "datasetInfos": [],
       "dbfsResultPath": null,
       "isJsonSchema": true,
       "metadata": {},
       "overflow": false,
       "plotOptions": {
        "customPlotOptions": {},
        "displayType": "table",
        "pivotAggregation": null,
        "pivotColumns": null,
        "xColumns": null,
        "yColumns": null
       },
       "removedWidgets": [],
       "schema": [
        {
         "metadata": "{}",
         "name": "dest",
         "type": "\"string\""
        },
        {
         "metadata": "{}",
         "name": "origin",
         "type": "\"string\""
        },
        {
         "metadata": "{}",
         "name": "flights",
         "type": "\"integer\""
        },
        {
         "metadata": "{}",
         "name": "dest_no_vowel",
         "type": "\"string\""
        },
        {
         "metadata": "{}",
         "name": "dest_last2_first2",
         "type": "\"string\""
        },
        {
         "metadata": "{}",
         "name": "temp_origin",
         "type": "\"string\""
        }
       ],
       "type": "table"
      }
     },
     "output_type": "display_data"
    }
   ],
   "source": [
    "#ifnull nie dziala, bo za stara wersja clustra chyba, coalesce dziala wlasciwie prawie tak samo, wiec uzyje tego\n",
    "\n",
    "df = df.withColumn(\n",
    "    \"temp_origin\",\n",
    "    F.coalesce(F.col(\"origin\"), F.lit(\"Dont know!!\"))\n",
    ")\n",
    "\n",
    "display(df.limit(10))"
   ]
  },
  {
   "cell_type": "code",
   "execution_count": 0,
   "metadata": {
    "application/vnd.databricks.v1+cell": {
     "cellMetadata": {
      "byteLimit": 2048000,
      "rowLimit": 10000
     },
     "inputWidgets": {},
     "nuid": "04ec1f03-cc04-462d-be72-974d523a0fc2",
     "showTitle": false,
     "tableResultSettingsMap": {},
     "title": ""
    }
   },
   "outputs": [
    {
     "output_type": "display_data",
     "data": {
      "text/html": [
       "<style scoped>\n",
       "  .table-result-container {\n",
       "    max-height: 300px;\n",
       "    overflow: auto;\n",
       "  }\n",
       "  table, th, td {\n",
       "    border: 1px solid black;\n",
       "    border-collapse: collapse;\n",
       "  }\n",
       "  th, td {\n",
       "    padding: 5px;\n",
       "  }\n",
       "  th {\n",
       "    text-align: left;\n",
       "  }\n",
       "</style><div class='table-result-container'><table class='table-result'><thead style='background-color: white'><tr><th>dest</th><th>origin</th><th>flights</th><th>dest_no_vowel</th><th>dest_last2_first2</th><th>temp_origin</th></tr></thead><tbody><tr><td>Unity States</td><td>null</td><td>1</td><td>Und Ss</td><td>ed St</td><td>Dont know!!</td></tr><tr><td>Unity States</td><td>null</td><td>12</td><td>Und Ss</td><td>ed St</td><td>Dont know!!</td></tr><tr><td>Unity States</td><td>null</td><td>2</td><td>Und Ss</td><td>ed St</td><td>Dont know!!</td></tr><tr><td>Unity States</td><td>Ireland</td><td>291</td><td>Und Ss</td><td>ed St</td><td>Ireland</td></tr><tr><td>Unity States</td><td>India</td><td>62</td><td>Und Ss</td><td>ed St</td><td>India</td></tr><tr><td>Egypt</td><td>null</td><td>11</td><td>Egp</td><td></td><td>Dont know!!</td></tr><tr><td>Unity States</td><td>Grenada</td><td>47</td><td>Und Ss</td><td>ed St</td><td>Grenada</td></tr><tr><td>Costa Rica</td><td>United States</td><td>529</td><td>Cs Rc</td><td>ta Ri</td><td>United States</td></tr><tr><td>Senegal</td><td>United States</td><td>35</td><td>Sngl</td><td></td><td>United States</td></tr><tr><td>Unity States</td><td>Sint Maarten</td><td>290</td><td>Und Ss</td><td>ed St</td><td>Sint Maarten</td></tr></tbody></table></div>"
      ]
     },
     "metadata": {
      "application/vnd.databricks.v1+output": {
       "addedWidgets": {},
       "aggData": [],
       "aggError": "",
       "aggOverflow": false,
       "aggSchema": [],
       "aggSeriesLimitReached": false,
       "aggType": "",
       "arguments": {},
       "columnCustomDisplayInfos": {},
       "data": [
        [
         "Unity States",
         null,
         1,
         "Und Ss",
         "ed St",
         "Dont know!!"
        ],
        [
         "Unity States",
         null,
         12,
         "Und Ss",
         "ed St",
         "Dont know!!"
        ],
        [
         "Unity States",
         null,
         2,
         "Und Ss",
         "ed St",
         "Dont know!!"
        ],
        [
         "Unity States",
         "Ireland",
         291,
         "Und Ss",
         "ed St",
         "Ireland"
        ],
        [
         "Unity States",
         "India",
         62,
         "Und Ss",
         "ed St",
         "India"
        ],
        [
         "Egypt",
         null,
         11,
         "Egp",
         "",
         "Dont know!!"
        ],
        [
         "Unity States",
         "Grenada",
         47,
         "Und Ss",
         "ed St",
         "Grenada"
        ],
        [
         "Costa Rica",
         "United States",
         529,
         "Cs Rc",
         "ta Ri",
         "United States"
        ],
        [
         "Senegal",
         "United States",
         35,
         "Sngl",
         "",
         "United States"
        ],
        [
         "Unity States",
         "Sint Maarten",
         290,
         "Und Ss",
         "ed St",
         "Sint Maarten"
        ]
       ],
       "datasetInfos": [],
       "dbfsResultPath": null,
       "isJsonSchema": true,
       "metadata": {},
       "overflow": false,
       "plotOptions": {
        "customPlotOptions": {},
        "displayType": "table",
        "pivotAggregation": null,
        "pivotColumns": null,
        "xColumns": null,
        "yColumns": null
       },
       "removedWidgets": [],
       "schema": [
        {
         "metadata": "{}",
         "name": "dest",
         "type": "\"string\""
        },
        {
         "metadata": "{}",
         "name": "origin",
         "type": "\"string\""
        },
        {
         "metadata": "{}",
         "name": "flights",
         "type": "\"integer\""
        },
        {
         "metadata": "{}",
         "name": "dest_no_vowel",
         "type": "\"string\""
        },
        {
         "metadata": "{}",
         "name": "dest_last2_first2",
         "type": "\"string\""
        },
        {
         "metadata": "{}",
         "name": "temp_origin",
         "type": "\"string\""
        }
       ],
       "type": "table"
      }
     },
     "output_type": "display_data"
    }
   ],
   "source": [
    "\n",
    "\n",
    "display(df.withColumn(\"dest\", F.regexp_replace(\"dest\", \"ed\", \"y\")).limit(10))\n",
    "     \n"
   ]
  },
  {
   "cell_type": "code",
   "execution_count": 0,
   "metadata": {
    "application/vnd.databricks.v1+cell": {
     "cellMetadata": {
      "byteLimit": 2048000,
      "rowLimit": 10000
     },
     "inputWidgets": {},
     "nuid": "20d986d9-4d42-4b05-b8ee-bb1d724bd91f",
     "showTitle": false,
     "tableResultSettingsMap": {},
     "title": ""
    }
   },
   "outputs": [
    {
     "output_type": "display_data",
     "data": {
      "text/html": [
       "<style scoped>\n",
       "  .table-result-container {\n",
       "    max-height: 300px;\n",
       "    overflow: auto;\n",
       "  }\n",
       "  table, th, td {\n",
       "    border: 1px solid black;\n",
       "    border-collapse: collapse;\n",
       "  }\n",
       "  th, td {\n",
       "    padding: 5px;\n",
       "  }\n",
       "  th {\n",
       "    text-align: left;\n",
       "  }\n",
       "</style><div class='table-result-container'><table class='table-result'><thead style='background-color: white'><tr><th>dest</th><th>origin</th><th>flights</th><th>dest_no_vowel</th><th>dest_last2_first2</th><th>temp_origin</th></tr></thead><tbody><tr><td>United States</td><td>null</td><td>1</td><td>Und Ss</td><td>ed St</td><td>Dont know!!</td></tr><tr><td>United States</td><td>null</td><td>12</td><td>Und Ss</td><td>ed St</td><td>Dont know!!</td></tr><tr><td>United States</td><td>null</td><td>2</td><td>Und Ss</td><td>ed St</td><td>Dont know!!</td></tr><tr><td>United States</td><td>Ireland</td><td>291</td><td>Und Ss</td><td>ed St</td><td>Ireland</td></tr><tr><td>United States</td><td>India</td><td>62</td><td>Und Ss</td><td>ed St</td><td>India</td></tr><tr><td>Egypt</td><td>null</td><td>11</td><td>Egp</td><td></td><td>Dont know!!</td></tr><tr><td>United States</td><td>Grenada</td><td>47</td><td>Und Ss</td><td>ed St</td><td>Grenada</td></tr><tr><td>Costa Rica</td><td>United States</td><td>529</td><td>Cs Rc</td><td>ta Ri</td><td>United States</td></tr><tr><td>Senegal</td><td>United States</td><td>35</td><td>Sngl</td><td></td><td>United States</td></tr><tr><td>United States</td><td>Sint Maarten</td><td>290</td><td>Und Ss</td><td>ed St</td><td>Sint Maarten</td></tr></tbody></table></div>"
      ]
     },
     "metadata": {
      "application/vnd.databricks.v1+output": {
       "addedWidgets": {},
       "aggData": [],
       "aggError": "",
       "aggOverflow": false,
       "aggSchema": [],
       "aggSeriesLimitReached": false,
       "aggType": "",
       "arguments": {},
       "columnCustomDisplayInfos": {},
       "data": [
        [
         "United States",
         null,
         1,
         "Und Ss",
         "ed St",
         "Dont know!!"
        ],
        [
         "United States",
         null,
         12,
         "Und Ss",
         "ed St",
         "Dont know!!"
        ],
        [
         "United States",
         null,
         2,
         "Und Ss",
         "ed St",
         "Dont know!!"
        ],
        [
         "United States",
         "Ireland",
         291,
         "Und Ss",
         "ed St",
         "Ireland"
        ],
        [
         "United States",
         "India",
         62,
         "Und Ss",
         "ed St",
         "India"
        ],
        [
         "Egypt",
         null,
         11,
         "Egp",
         "",
         "Dont know!!"
        ],
        [
         "United States",
         "Grenada",
         47,
         "Und Ss",
         "ed St",
         "Grenada"
        ],
        [
         "Costa Rica",
         "United States",
         529,
         "Cs Rc",
         "ta Ri",
         "United States"
        ],
        [
         "Senegal",
         "United States",
         35,
         "Sngl",
         "",
         "United States"
        ],
        [
         "United States",
         "Sint Maarten",
         290,
         "Und Ss",
         "ed St",
         "Sint Maarten"
        ]
       ],
       "datasetInfos": [],
       "dbfsResultPath": null,
       "isJsonSchema": true,
       "metadata": {},
       "overflow": false,
       "plotOptions": {
        "customPlotOptions": {},
        "displayType": "table",
        "pivotAggregation": null,
        "pivotColumns": null,
        "xColumns": null,
        "yColumns": null
       },
       "removedWidgets": [],
       "schema": [
        {
         "metadata": "{}",
         "name": "dest",
         "type": "\"string\""
        },
        {
         "metadata": "{}",
         "name": "origin",
         "type": "\"string\""
        },
        {
         "metadata": "{}",
         "name": "flights",
         "type": "\"integer\""
        },
        {
         "metadata": "{}",
         "name": "dest_no_vowel",
         "type": "\"string\""
        },
        {
         "metadata": "{}",
         "name": "dest_last2_first2",
         "type": "\"string\""
        },
        {
         "metadata": "{}",
         "name": "temp_origin",
         "type": "\"string\""
        }
       ],
       "type": "table"
      }
     },
     "output_type": "display_data"
    }
   ],
   "source": [
    "display(df.limit(10))"
   ]
  },
  {
   "cell_type": "code",
   "execution_count": 0,
   "metadata": {
    "application/vnd.databricks.v1+cell": {
     "cellMetadata": {
      "byteLimit": 2048000,
      "rowLimit": 10000
     },
     "inputWidgets": {},
     "nuid": "7de2da42-2121-4909-821f-f64a9cb1de4b",
     "showTitle": false,
     "tableResultSettingsMap": {},
     "title": ""
    }
   },
   "outputs": [
    {
     "output_type": "display_data",
     "data": {
      "text/html": [
       "<style scoped>\n",
       "  .table-result-container {\n",
       "    max-height: 300px;\n",
       "    overflow: auto;\n",
       "  }\n",
       "  table, th, td {\n",
       "    border: 1px solid black;\n",
       "    border-collapse: collapse;\n",
       "  }\n",
       "  th, td {\n",
       "    padding: 5px;\n",
       "  }\n",
       "  th {\n",
       "    text-align: left;\n",
       "  }\n",
       "</style><div class='table-result-container'><table class='table-result'><thead style='background-color: white'><tr><th>origin</th><th>num_records</th><th>avg_flights</th><th>flights_skewness</th></tr></thead><tbody><tr><td>Canada</td><td>1</td><td>8177.0</td><td>null</td></tr><tr><td>Mexico</td><td>1</td><td>6490.0</td><td>null</td></tr><tr><td>United States</td><td>123</td><td>3235.8617886178863</td><td>10.940452773494437</td></tr><tr><td>United Kingdom</td><td>1</td><td>1812.0</td><td>null</td></tr><tr><td>Japan</td><td>1</td><td>1501.0</td><td>null</td></tr><tr><td>Germany</td><td>1</td><td>1343.0</td><td>null</td></tr><tr><td>Dominican Republic</td><td>1</td><td>1282.0</td><td>null</td></tr><tr><td>The Bahamas</td><td>1</td><td>991.0</td><td>null</td></tr><tr><td>France</td><td>1</td><td>960.0</td><td>null</td></tr><tr><td>Colombia</td><td>1</td><td>888.0</td><td>null</td></tr></tbody></table></div>"
      ]
     },
     "metadata": {
      "application/vnd.databricks.v1+output": {
       "addedWidgets": {},
       "aggData": [],
       "aggError": "",
       "aggOverflow": false,
       "aggSchema": [],
       "aggSeriesLimitReached": false,
       "aggType": "",
       "arguments": {},
       "columnCustomDisplayInfos": {},
       "data": [
        [
         "Canada",
         1,
         8177.0,
         null
        ],
        [
         "Mexico",
         1,
         6490.0,
         null
        ],
        [
         "United States",
         123,
         3235.8617886178863,
         10.940452773494437
        ],
        [
         "United Kingdom",
         1,
         1812.0,
         null
        ],
        [
         "Japan",
         1,
         1501.0,
         null
        ],
        [
         "Germany",
         1,
         1343.0,
         null
        ],
        [
         "Dominican Republic",
         1,
         1282.0,
         null
        ],
        [
         "The Bahamas",
         1,
         991.0,
         null
        ],
        [
         "France",
         1,
         960.0,
         null
        ],
        [
         "Colombia",
         1,
         888.0,
         null
        ]
       ],
       "datasetInfos": [],
       "dbfsResultPath": null,
       "isJsonSchema": true,
       "metadata": {},
       "overflow": false,
       "plotOptions": {
        "customPlotOptions": {},
        "displayType": "table",
        "pivotAggregation": null,
        "pivotColumns": null,
        "xColumns": null,
        "yColumns": null
       },
       "removedWidgets": [],
       "schema": [
        {
         "metadata": "{}",
         "name": "origin",
         "type": "\"string\""
        },
        {
         "metadata": "{}",
         "name": "num_records",
         "type": "\"long\""
        },
        {
         "metadata": "{}",
         "name": "avg_flights",
         "type": "\"double\""
        },
        {
         "metadata": "{}",
         "name": "flights_skewness",
         "type": "\"double\""
        }
       ],
       "type": "table"
      }
     },
     "output_type": "display_data"
    }
   ],
   "source": [
    "agg_df = (\n",
    "    df.groupBy(\"origin\")\n",
    "      .agg(\n",
    "          F.count(\"flights\").alias(\"num_records\"),\n",
    "          F.avg(\"flights\").alias(\"avg_flights\"),\n",
    "          F.skewness(\"flights\").alias(\"flights_skewness\")\n",
    "      )\n",
    "      .sort(F.col(\"avg_flights\").desc())\n",
    "      .limit(10)\n",
    ")\n",
    "\n",
    "display(agg_df)"
   ]
  },
  {
   "cell_type": "code",
   "execution_count": 0,
   "metadata": {
    "application/vnd.databricks.v1+cell": {
     "cellMetadata": {
      "byteLimit": 2048000,
      "rowLimit": 10000
     },
     "inputWidgets": {},
     "nuid": "306adc35-cbd5-4b2c-bd8d-448566cac9df",
     "showTitle": false,
     "tableResultSettingsMap": {},
     "title": ""
    }
   },
   "outputs": [
    {
     "output_type": "display_data",
     "data": {
      "text/html": [
       "<style scoped>\n",
       "  .table-result-container {\n",
       "    max-height: 300px;\n",
       "    overflow: auto;\n",
       "  }\n",
       "  table, th, td {\n",
       "    border: 1px solid black;\n",
       "    border-collapse: collapse;\n",
       "  }\n",
       "  th, td {\n",
       "    padding: 5px;\n",
       "  }\n",
       "  th {\n",
       "    text-align: left;\n",
       "  }\n",
       "</style><div class='table-result-container'><table class='table-result'><thead style='background-color: white'><tr><th>origin</th><th>flights_skewness</th></tr></thead><tbody><tr><td>United States</td><td>10.940452773494437</td></tr><tr><td>null</td><td>0.34500987457450183</td></tr><tr><td>Russia</td><td>null</td></tr><tr><td>Anguilla</td><td>null</td></tr><tr><td>Senegal</td><td>null</td></tr><tr><td>Sweden</td><td>null</td></tr><tr><td>Kiribati</td><td>null</td></tr><tr><td>Guyana</td><td>null</td></tr><tr><td>Philippines</td><td>null</td></tr><tr><td>Fiji</td><td>null</td></tr></tbody></table></div>"
      ]
     },
     "metadata": {
      "application/vnd.databricks.v1+output": {
       "addedWidgets": {},
       "aggData": [],
       "aggError": "",
       "aggOverflow": false,
       "aggSchema": [],
       "aggSeriesLimitReached": false,
       "aggType": "",
       "arguments": {},
       "columnCustomDisplayInfos": {},
       "data": [
        [
         "United States",
         10.940452773494437
        ],
        [
         null,
         0.34500987457450183
        ],
        [
         "Russia",
         null
        ],
        [
         "Anguilla",
         null
        ],
        [
         "Senegal",
         null
        ],
        [
         "Sweden",
         null
        ],
        [
         "Kiribati",
         null
        ],
        [
         "Guyana",
         null
        ],
        [
         "Philippines",
         null
        ],
        [
         "Fiji",
         null
        ]
       ],
       "datasetInfos": [],
       "dbfsResultPath": null,
       "isJsonSchema": true,
       "metadata": {},
       "overflow": false,
       "plotOptions": {
        "customPlotOptions": {},
        "displayType": "table",
        "pivotAggregation": null,
        "pivotColumns": null,
        "xColumns": null,
        "yColumns": null
       },
       "removedWidgets": [],
       "schema": [
        {
         "metadata": "{}",
         "name": "origin",
         "type": "\"string\""
        },
        {
         "metadata": "{}",
         "name": "flights_skewness",
         "type": "\"double\""
        }
       ],
       "type": "table"
      }
     },
     "output_type": "display_data"
    }
   ],
   "source": [
    "display(df.groupby(\"origin\")\n",
    "          .agg(F.skewness(\"flights\").alias(\"flights_skewness\"))\n",
    "          .sort(F.col(\"flights_skewness\").desc())\n",
    "          .limit(10))"
   ]
  },
  {
   "cell_type": "code",
   "execution_count": 0,
   "metadata": {
    "application/vnd.databricks.v1+cell": {
     "cellMetadata": {
      "byteLimit": 2048000,
      "rowLimit": 10000
     },
     "inputWidgets": {},
     "nuid": "0cad9148-e770-4556-a009-4b5c4d28ccdc",
     "showTitle": false,
     "tableResultSettingsMap": {},
     "title": ""
    }
   },
   "outputs": [
    {
     "output_type": "display_data",
     "data": {
      "text/html": [
       "<style scoped>\n",
       "  .table-result-container {\n",
       "    max-height: 300px;\n",
       "    overflow: auto;\n",
       "  }\n",
       "  table, th, td {\n",
       "    border: 1px solid black;\n",
       "    border-collapse: collapse;\n",
       "  }\n",
       "  th, td {\n",
       "    padding: 5px;\n",
       "  }\n",
       "  th {\n",
       "    text-align: left;\n",
       "  }\n",
       "</style><div class='table-result-container'><table class='table-result'><thead style='background-color: white'><tr><th>origin</th><th>total_flights</th><th>max_flights</th></tr></thead><tbody><tr><td>United States</td><td>398011</td><td>358354</td></tr><tr><td>Canada</td><td>8177</td><td>8177</td></tr><tr><td>Mexico</td><td>6490</td><td>6490</td></tr><tr><td>United Kingdom</td><td>1812</td><td>1812</td></tr><tr><td>Japan</td><td>1501</td><td>1501</td></tr><tr><td>Germany</td><td>1343</td><td>1343</td></tr><tr><td>Dominican Republic</td><td>1282</td><td>1282</td></tr><tr><td>The Bahamas</td><td>991</td><td>991</td></tr><tr><td>France</td><td>960</td><td>960</td></tr><tr><td>Colombia</td><td>888</td><td>888</td></tr></tbody></table></div>"
      ]
     },
     "metadata": {
      "application/vnd.databricks.v1+output": {
       "addedWidgets": {},
       "aggData": [],
       "aggError": "",
       "aggOverflow": false,
       "aggSchema": [],
       "aggSeriesLimitReached": false,
       "aggType": "",
       "arguments": {},
       "columnCustomDisplayInfos": {},
       "data": [
        [
         "United States",
         398011,
         358354
        ],
        [
         "Canada",
         8177,
         8177
        ],
        [
         "Mexico",
         6490,
         6490
        ],
        [
         "United Kingdom",
         1812,
         1812
        ],
        [
         "Japan",
         1501,
         1501
        ],
        [
         "Germany",
         1343,
         1343
        ],
        [
         "Dominican Republic",
         1282,
         1282
        ],
        [
         "The Bahamas",
         991,
         991
        ],
        [
         "France",
         960,
         960
        ],
        [
         "Colombia",
         888,
         888
        ]
       ],
       "datasetInfos": [],
       "dbfsResultPath": null,
       "isJsonSchema": true,
       "metadata": {},
       "overflow": false,
       "plotOptions": {
        "customPlotOptions": {},
        "displayType": "table",
        "pivotAggregation": null,
        "pivotColumns": null,
        "xColumns": null,
        "yColumns": null
       },
       "removedWidgets": [],
       "schema": [
        {
         "metadata": "{}",
         "name": "origin",
         "type": "\"string\""
        },
        {
         "metadata": "{}",
         "name": "total_flights",
         "type": "\"long\""
        },
        {
         "metadata": "{}",
         "name": "max_flights",
         "type": "\"integer\""
        }
       ],
       "type": "table"
      }
     },
     "output_type": "display_data"
    }
   ],
   "source": [
    "simple_agg_df = (\n",
    "    df.groupBy(\"origin\")\n",
    "      .agg(\n",
    "          F.sum(\"flights\").alias(\"total_flights\"),\n",
    "          F.max(\"flights\").alias(\"max_flights\")\n",
    "      )\n",
    "      .sort(F.col(\"total_flights\").desc())\n",
    "      .limit(10)\n",
    ")\n",
    "\n",
    "display(simple_agg_df)"
   ]
  },
  {
   "cell_type": "code",
   "execution_count": 0,
   "metadata": {
    "application/vnd.databricks.v1+cell": {
     "cellMetadata": {
      "byteLimit": 2048000,
      "rowLimit": 10000
     },
     "inputWidgets": {},
     "nuid": "69880e99-ecaa-4db3-a13b-16dc986961c9",
     "showTitle": false,
     "tableResultSettingsMap": {},
     "title": ""
    }
   },
   "outputs": [
    {
     "output_type": "display_data",
     "data": {
      "text/html": [
       "<style scoped>\n",
       "  .table-result-container {\n",
       "    max-height: 300px;\n",
       "    overflow: auto;\n",
       "  }\n",
       "  table, th, td {\n",
       "    border: 1px solid black;\n",
       "    border-collapse: collapse;\n",
       "  }\n",
       "  th, td {\n",
       "    padding: 5px;\n",
       "  }\n",
       "  th {\n",
       "    text-align: left;\n",
       "  }\n",
       "</style><div class='table-result-container'><table class='table-result'><thead style='background-color: white'><tr><th>origin</th><th>dest</th><th>flights</th><th>is_prime_flights</th></tr></thead><tbody><tr><td>null</td><td>United States</td><td>1</td><td>false</td></tr><tr><td>null</td><td>United States</td><td>12</td><td>false</td></tr><tr><td>null</td><td>United States</td><td>2</td><td>true</td></tr><tr><td>Ireland</td><td>United States</td><td>291</td><td>false</td></tr><tr><td>India</td><td>United States</td><td>62</td><td>false</td></tr><tr><td>null</td><td>Egypt</td><td>11</td><td>true</td></tr><tr><td>Grenada</td><td>United States</td><td>47</td><td>true</td></tr><tr><td>United States</td><td>Costa Rica</td><td>529</td><td>false</td></tr><tr><td>United States</td><td>Senegal</td><td>35</td><td>false</td></tr><tr><td>Sint Maarten</td><td>United States</td><td>290</td><td>false</td></tr><tr><td>United States</td><td>Guyana</td><td>52</td><td>false</td></tr><tr><td>Marshall Islands</td><td>United States</td><td>35</td><td>false</td></tr><tr><td>United States</td><td>Malta</td><td>2</td><td>true</td></tr><tr><td>United States</td><td>Malawi</td><td>1</td><td>false</td></tr><tr><td>United States</td><td>Bolivia</td><td>33</td><td>false</td></tr><tr><td>United States</td><td>Anguilla</td><td>34</td><td>false</td></tr><tr><td>United States</td><td>Algeria</td><td>9</td><td>false</td></tr><tr><td>null</td><td>United States</td><td>14</td><td>false</td></tr><tr><td>United States</td><td>Gibraltar</td><td>1</td><td>false</td></tr><tr><td>United States</td><td>Turks and Caicos Islands</td><td>193</td><td>true</td></tr><tr><td>United States</td><td>Saint Vincent and the Grenadines</td><td>1</td><td>false</td></tr><tr><td>Russia</td><td>United States</td><td>151</td><td>true</td></tr><tr><td>United States</td><td>Italy</td><td>366</td><td>false</td></tr><tr><td>United States</td><td>Pakistan</td><td>12</td><td>false</td></tr><tr><td>Federated States of Micronesia</td><td>United States</td><td>71</td><td>true</td></tr><tr><td>United States</td><td>Iceland</td><td>150</td><td>false</td></tr><tr><td>Netherlands</td><td>United States</td><td>702</td><td>false</td></tr><tr><td>United States</td><td>Marshall Islands</td><td>46</td><td>false</td></tr><tr><td>United States</td><td>Luxembourg</td><td>161</td><td>false</td></tr><tr><td>United States</td><td>Honduras</td><td>411</td><td>false</td></tr><tr><td>United States</td><td>The Bahamas</td><td>950</td><td>false</td></tr><tr><td>United States</td><td>El Salvador</td><td>572</td><td>false</td></tr><tr><td>Senegal</td><td>United States</td><td>28</td><td>false</td></tr><tr><td>United States</td><td>Samoa</td><td>24</td><td>false</td></tr><tr><td>null</td><td>United States</td><td>12</td><td>false</td></tr><tr><td>United States</td><td>Kazakhstan</td><td>1</td><td>false</td></tr><tr><td>United States</td><td>Switzerland</td><td>302</td><td>false</td></tr><tr><td>Anguilla</td><td>United States</td><td>35</td><td>false</td></tr><tr><td>United States</td><td>Sint Maarten</td><td>290</td><td>false</td></tr><tr><td>United States</td><td>Hong Kong</td><td>338</td><td>false</td></tr><tr><td>null</td><td>United States</td><td>1</td><td>false</td></tr><tr><td>United States</td><td>Latvia</td><td>40</td><td>false</td></tr><tr><td>United States</td><td>Trinidad and Tobago</td><td>188</td><td>false</td></tr><tr><td>Ecuador</td><td>United States</td><td>326</td><td>false</td></tr><tr><td>United States</td><td>Slovakia</td><td>1</td><td>false</td></tr><tr><td>United States</td><td>Suriname</td><td>10</td><td>false</td></tr><tr><td>United States</td><td>Mexico</td><td>6427</td><td>true</td></tr><tr><td>United States</td><td>Ecuador</td><td>256</td><td>false</td></tr><tr><td>Portugal</td><td>United States</td><td>122</td><td>false</td></tr><tr><td>Guatemala</td><td>United States</td><td>327</td><td>false</td></tr><tr><td>Costa Rica</td><td>United States</td><td>560</td><td>false</td></tr><tr><td>Suriname</td><td>United States</td><td>27</td><td>false</td></tr><tr><td>United States</td><td>Colombia</td><td>872</td><td>false</td></tr><tr><td>null</td><td>United States</td><td>16</td><td>false</td></tr><tr><td>Jamaica</td><td>United States</td><td>714</td><td>false</td></tr><tr><td>United States</td><td>Norway</td><td>86</td><td>false</td></tr><tr><td>null</td><td>United States</td><td>15</td><td>false</td></tr><tr><td>United States</td><td>Venezuela</td><td>335</td><td>false</td></tr><tr><td>null</td><td>United States</td><td>25</td><td>false</td></tr><tr><td>Palau</td><td>United States</td><td>38</td><td>false</td></tr><tr><td>Venezuela</td><td>United States</td><td>258</td><td>false</td></tr><tr><td>United States</td><td>Panama</td><td>456</td><td>false</td></tr><tr><td>Chile</td><td>United States</td><td>168</td><td>false</td></tr><tr><td>null</td><td>United States</td><td>19</td><td>true</td></tr><tr><td>United States</td><td>Antigua and Barbuda</td><td>115</td><td>false</td></tr><tr><td>United States</td><td>Morocco</td><td>18</td><td>false</td></tr><tr><td>null</td><td>United States</td><td>19</td><td>true</td></tr><tr><td>United States</td><td>Azerbaijan</td><td>7</td><td>true</td></tr><tr><td>The Bahamas</td><td>United States</td><td>991</td><td>true</td></tr><tr><td>United States</td><td>New Zealand</td><td>114</td><td>false</td></tr><tr><td>United States</td><td>Liberia</td><td>3</td><td>true</td></tr><tr><td>Hong Kong</td><td>United States</td><td>381</td><td>false</td></tr><tr><td>United States</td><td>Hungary</td><td>2</td><td>true</td></tr><tr><td>null</td><td>United States</td><td>1</td><td>false</td></tr><tr><td>China</td><td>United States</td><td>767</td><td>false</td></tr><tr><td>United States</td><td>Burkina Faso</td><td>2</td><td>true</td></tr><tr><td>United States</td><td>Sweden</td><td>94</td><td>false</td></tr><tr><td>null</td><td>United States</td><td>24</td><td>false</td></tr><tr><td>Dominican Republic</td><td>United States</td><td>1282</td><td>false</td></tr><tr><td>null</td><td>United States</td><td>11</td><td>true</td></tr><tr><td>United States</td><td>Israel</td><td>108</td><td>false</td></tr><tr><td>United States</td><td>United States</td><td>358354</td><td>false</td></tr><tr><td>Luxembourg</td><td>United States</td><td>115</td><td>false</td></tr><tr><td>United States</td><td>Ethiopia</td><td>11</td><td>true</td></tr><tr><td>Poland</td><td>United States</td><td>33</td><td>false</td></tr><tr><td>United States</td><td>Martinique</td><td>31</td><td>true</td></tr><tr><td>Saint Barthelemy</td><td>United States</td><td>53</td><td>true</td></tr><tr><td>United States</td><td>Saint Barthelemy</td><td>53</td><td>true</td></tr><tr><td>Turkey</td><td>United States</td><td>92</td><td>false</td></tr><tr><td>United States</td><td>Barbados</td><td>102</td><td>false</td></tr><tr><td>null</td><td>United States</td><td>1</td><td>false</td></tr><tr><td>null</td><td>United States</td><td>5</td><td>true</td></tr><tr><td>United States</td><td>Germany</td><td>1391</td><td>false</td></tr><tr><td>South Korea</td><td>United States</td><td>754</td><td>false</td></tr><tr><td>El Salvador</td><td>United States</td><td>486</td><td>false</td></tr><tr><td>United States</td><td>Ireland</td><td>267</td><td>false</td></tr><tr><td>null</td><td>United States</td><td>1</td><td>false</td></tr><tr><td>United States</td><td>Malaysia</td><td>2</td><td>true</td></tr><tr><td>Panama</td><td>United States</td><td>460</td><td>false</td></tr><tr><td>Aruba</td><td>United States</td><td>348</td><td>false</td></tr><tr><td>null</td><td>United States</td><td>11</td><td>true</td></tr><tr><td>Turks and Caicos Islands</td><td>United States</td><td>204</td><td>false</td></tr><tr><td>null</td><td>United States</td><td>12</td><td>false</td></tr><tr><td>Honduras</td><td>United States</td><td>412</td><td>false</td></tr><tr><td>United States</td><td>Fiji</td><td>25</td><td>false</td></tr><tr><td>United States</td><td>Qatar</td><td>95</td><td>false</td></tr><tr><td>United States</td><td>Saint Kitts and Nevis</td><td>118</td><td>false</td></tr><tr><td>United States</td><td>Haiti</td><td>201</td><td>false</td></tr><tr><td>United States</td><td>Taiwan</td><td>265</td><td>false</td></tr><tr><td>United States</td><td>Kuwait</td><td>24</td><td>false</td></tr><tr><td>United States</td><td>Canada</td><td>7974</td><td>false</td></tr><tr><td>United States</td><td>Federated States of Micronesia</td><td>60</td><td>false</td></tr><tr><td>United States</td><td>Jamaica</td><td>673</td><td>true</td></tr><tr><td>null</td><td>United States</td><td>2</td><td>true</td></tr><tr><td>United States</td><td>Dominican Republic</td><td>1230</td><td>false</td></tr><tr><td>United States</td><td>Japan</td><td>1591</td><td>false</td></tr><tr><td>null</td><td>United States</td><td>3</td><td>true</td></tr><tr><td>United States</td><td>Finland</td><td>18</td><td>false</td></tr><tr><td>null</td><td>United States</td><td>1</td><td>false</td></tr><tr><td>Guadeloupe</td><td>United States</td><td>47</td><td>true</td></tr><tr><td>France</td><td>United States</td><td>960</td><td>false</td></tr><tr><td>United States</td><td>Aruba</td><td>351</td><td>false</td></tr><tr><td>Norway</td><td>United States</td><td>87</td><td>false</td></tr><tr><td>United States</td><td>French Guiana</td><td>11</td><td>true</td></tr><tr><td>Kiribati</td><td>United States</td><td>27</td><td>false</td></tr><tr><td>United States</td><td>India</td><td>61</td><td>true</td></tr><tr><td>United States</td><td>British Virgin Islands</td><td>108</td><td>false</td></tr><tr><td>United States</td><td>Brazil</td><td>927</td><td>false</td></tr><tr><td>Germany</td><td>United States</td><td>1343</td><td>false</td></tr><tr><td>New Zealand</td><td>United States</td><td>77</td><td>false</td></tr><tr><td>null</td><td>United States</td><td>1</td><td>false</td></tr><tr><td>United States</td><td>French Polynesia</td><td>39</td><td>false</td></tr><tr><td>United States</td><td>United Arab Emirates</td><td>247</td><td>false</td></tr><tr><td>Mexico</td><td>United States</td><td>6490</td><td>false</td></tr><tr><td>United States</td><td>Netherlands</td><td>773</td><td>true</td></tr><tr><td>Sweden</td><td>United States</td><td>101</td><td>true</td></tr><tr><td>Martinique</td><td>United States</td><td>32</td><td>false</td></tr><tr><td>United Arab Emirates</td><td>United States</td><td>226</td><td>false</td></tr><tr><td>null</td><td>United States</td><td>1</td><td>false</td></tr><tr><td>United States</td><td>Denmark</td><td>114</td><td>false</td></tr><tr><td>United States</td><td>China</td><td>653</td><td>true</td></tr><tr><td>Nicaragua</td><td>United States</td><td>170</td><td>false</td></tr><tr><td>Philippines</td><td>United States</td><td>116</td><td>false</td></tr><tr><td>Belgium</td><td>United States</td><td>230</td><td>false</td></tr><tr><td>United States</td><td>Peru</td><td>277</td><td>true</td></tr><tr><td>United States</td><td>Argentina</td><td>195</td><td>false</td></tr><tr><td>United States</td><td>Cayman Islands</td><td>283</td><td>true</td></tr><tr><td>United States</td><td>South Africa</td><td>32</td><td>false</td></tr><tr><td>Argentina</td><td>United States</td><td>153</td><td>false</td></tr><tr><td>Iceland</td><td>United States</td><td>177</td><td>false</td></tr><tr><td>United States</td><td>Chad</td><td>1</td><td>false</td></tr><tr><td>United States</td><td>Spain</td><td>388</td><td>false</td></tr><tr><td>United States</td><td>Bermuda</td><td>185</td><td>false</td></tr><tr><td>Nigeria</td><td>United States</td><td>43</td><td>true</td></tr><tr><td>Austria</td><td>United States</td><td>46</td><td>false</td></tr><tr><td>Bonaire, Sint Eustatius, and Saba</td><td>United States</td><td>63</td><td>false</td></tr><tr><td>United States</td><td>Kiribati</td><td>26</td><td>false</td></tr><tr><td>United States</td><td>Saudi Arabia</td><td>79</td><td>true</td></tr><tr><td>United States</td><td>Czech Republic</td><td>11</td><td>true</td></tr><tr><td>United States</td><td>Macau</td><td>3</td><td>true</td></tr><tr><td>United States</td><td>Belgium</td><td>259</td><td>false</td></tr><tr><td>Israel</td><td>United States</td><td>112</td><td>false</td></tr><tr><td>Saint Lucia</td><td>United States</td><td>109</td><td>true</td></tr><tr><td>British Virgin Islands</td><td>United States</td><td>101</td><td>true</td></tr><tr><td>United States</td><td>Curacao</td><td>74</td><td>false</td></tr><tr><td>Denmark</td><td>United States</td><td>116</td><td>false</td></tr><tr><td>Guyana</td><td>United States</td><td>55</td><td>false</td></tr><tr><td>United States</td><td>Philippines</td><td>134</td><td>false</td></tr><tr><td>United States</td><td>Grenada</td><td>43</td><td>true</td></tr><tr><td>United States</td><td>Cape Verde</td><td>24</td><td>false</td></tr><tr><td>United States</td><td>Ukraine</td><td>11</td><td>true</td></tr><tr><td>United States</td><td>Russia</td><td>213</td><td>false</td></tr><tr><td>Saudi Arabia</td><td>United States</td><td>74</td><td>false</td></tr><tr><td>United States</td><td>Guatemala</td><td>383</td><td>true</td></tr><tr><td>United States</td><td>Saint Lucia</td><td>107</td><td>true</td></tr><tr><td>United States</td><td>Paraguay</td><td>90</td><td>false</td></tr><tr><td>Curacao</td><td>United States</td><td>77</td><td>false</td></tr><tr><td>Taiwan</td><td>United States</td><td>240</td><td>false</td></tr><tr><td>United States</td><td>Tunisia</td><td>2</td><td>true</td></tr><tr><td>South Africa</td><td>United States</td><td>32</td><td>false</td></tr><tr><td>United States</td><td>Turkey</td><td>91</td><td>false</td></tr><tr><td>United States</td><td>United Kingdom</td><td>1912</td><td>false</td></tr><tr><td>United States</td><td>Romania</td><td>11</td><td>true</td></tr><tr><td>null</td><td>United States</td><td>1</td><td>false</td></tr><tr><td>Spain</td><td>United States</td><td>424</td><td>false</td></tr><tr><td>United States</td><td>Cuba</td><td>417</td><td>false</td></tr><tr><td>Italy</td><td>United States</td><td>385</td><td>false</td></tr><tr><td>Switzerland</td><td>United States</td><td>300</td><td>false</td></tr><tr><td>United States</td><td>Dominica</td><td>25</td><td>false</td></tr><tr><td>Japan</td><td>United States</td><td>1501</td><td>false</td></tr><tr><td>United States</td><td>Portugal</td><td>124</td><td>false</td></tr><tr><td>Brazil</td><td>United States</td><td>578</td><td>false</td></tr><tr><td>United States</td><td>Bahrain</td><td>41</td><td>true</td></tr><tr><td>Peru</td><td>United States</td><td>315</td><td>false</td></tr><tr><td>United States</td><td>Indonesia</td><td>1</td><td>false</td></tr><tr><td>United Kingdom</td><td>United States</td><td>1812</td><td>false</td></tr><tr><td>Belize</td><td>United States</td><td>143</td><td>false</td></tr><tr><td>United States</td><td>Belize</td><td>142</td><td>false</td></tr><tr><td>null</td><td>United States</td><td>15</td><td>false</td></tr><tr><td>United States</td><td>Mauritania</td><td>1</td><td>false</td></tr><tr><td>null</td><td>United States</td><td>1</td><td>false</td></tr><tr><td>Fiji</td><td>United States</td><td>27</td><td>false</td></tr><tr><td>Canada</td><td>United States</td><td>8177</td><td>false</td></tr><tr><td>Antigua and Barbuda</td><td>United States</td><td>112</td><td>false</td></tr><tr><td>French Polynesia</td><td>United States</td><td>40</td><td>false</td></tr><tr><td>United States</td><td>Nicaragua</td><td>168</td><td>false</td></tr><tr><td>null</td><td>United States</td><td>13</td><td>true</td></tr><tr><td>Dominica</td><td>United States</td><td>36</td><td>false</td></tr><tr><td>null</td><td>United States</td><td>11</td><td>true</td></tr><tr><td>null</td><td>United States</td><td>12</td><td>false</td></tr><tr><td>Australia</td><td>United States</td><td>235</td><td>false</td></tr><tr><td>United States</td><td>Austria</td><td>47</td><td>true</td></tr><tr><td>United States</td><td>Jordan</td><td>65</td><td>false</td></tr><tr><td>United States</td><td>Palau</td><td>38</td><td>false</td></tr><tr><td>United States</td><td>South Korea</td><td>968</td><td>false</td></tr><tr><td>United States</td><td>Angola</td><td>13</td><td>true</td></tr><tr><td>United States</td><td>Ghana</td><td>13</td><td>true</td></tr><tr><td>United States</td><td>Guadeloupe</td><td>43</td><td>true</td></tr><tr><td>United States</td><td>France</td><td>966</td><td>false</td></tr><tr><td>United States</td><td>Poland</td><td>35</td><td>false</td></tr><tr><td>United States</td><td>Nigeria</td><td>49</td><td>false</td></tr><tr><td>null</td><td>United States</td><td>18</td><td>false</td></tr><tr><td>United States</td><td>Greenland</td><td>2</td><td>true</td></tr><tr><td>United States</td><td>Chile</td><td>156</td><td>false</td></tr><tr><td>Bermuda</td><td>United States</td><td>190</td><td>false</td></tr><tr><td>Cuba</td><td>United States</td><td>419</td><td>true</td></tr><tr><td>Qatar</td><td>United States</td><td>96</td><td>false</td></tr><tr><td>Colombia</td><td>United States</td><td>888</td><td>false</td></tr><tr><td>Barbados</td><td>United States</td><td>89</td><td>true</td></tr><tr><td>United States</td><td>Australia</td><td>293</td><td>true</td></tr><tr><td>Cayman Islands</td><td>United States</td><td>278</td><td>false</td></tr><tr><td>Jordan</td><td>United States</td><td>64</td><td>false</td></tr><tr><td>Trinidad and Tobago</td><td>United States</td><td>175</td><td>false</td></tr><tr><td>null</td><td>United States</td><td>14</td><td>false</td></tr><tr><td>United States</td><td>Uruguay</td><td>60</td><td>false</td></tr><tr><td>United States</td><td>Cook Islands</td><td>12</td><td>false</td></tr><tr><td>null</td><td>United States</td><td>4</td><td>false</td></tr><tr><td>Saint Kitts and Nevis</td><td>United States</td><td>123</td><td>false</td></tr><tr><td>Haiti</td><td>United States</td><td>193</td><td>true</td></tr><tr><td>United States</td><td>Bonaire, Sint Eustatius, and Saba</td><td>62</td><td>false</td></tr><tr><td>United States</td><td>Greece</td><td>20</td><td>false</td></tr></tbody></table></div>"
      ]
     },
     "metadata": {
      "application/vnd.databricks.v1+output": {
       "addedWidgets": {},
       "aggData": [],
       "aggError": "",
       "aggOverflow": false,
       "aggSchema": [],
       "aggSeriesLimitReached": false,
       "aggType": "",
       "arguments": {},
       "columnCustomDisplayInfos": {},
       "data": [
        [
         null,
         "United States",
         1,
         false
        ],
        [
         null,
         "United States",
         12,
         false
        ],
        [
         null,
         "United States",
         2,
         true
        ],
        [
         "Ireland",
         "United States",
         291,
         false
        ],
        [
         "India",
         "United States",
         62,
         false
        ],
        [
         null,
         "Egypt",
         11,
         true
        ],
        [
         "Grenada",
         "United States",
         47,
         true
        ],
        [
         "United States",
         "Costa Rica",
         529,
         false
        ],
        [
         "United States",
         "Senegal",
         35,
         false
        ],
        [
         "Sint Maarten",
         "United States",
         290,
         false
        ],
        [
         "United States",
         "Guyana",
         52,
         false
        ],
        [
         "Marshall Islands",
         "United States",
         35,
         false
        ],
        [
         "United States",
         "Malta",
         2,
         true
        ],
        [
         "United States",
         "Malawi",
         1,
         false
        ],
        [
         "United States",
         "Bolivia",
         33,
         false
        ],
        [
         "United States",
         "Anguilla",
         34,
         false
        ],
        [
         "United States",
         "Algeria",
         9,
         false
        ],
        [
         null,
         "United States",
         14,
         false
        ],
        [
         "United States",
         "Gibraltar",
         1,
         false
        ],
        [
         "United States",
         "Turks and Caicos Islands",
         193,
         true
        ],
        [
         "United States",
         "Saint Vincent and the Grenadines",
         1,
         false
        ],
        [
         "Russia",
         "United States",
         151,
         true
        ],
        [
         "United States",
         "Italy",
         366,
         false
        ],
        [
         "United States",
         "Pakistan",
         12,
         false
        ],
        [
         "Federated States of Micronesia",
         "United States",
         71,
         true
        ],
        [
         "United States",
         "Iceland",
         150,
         false
        ],
        [
         "Netherlands",
         "United States",
         702,
         false
        ],
        [
         "United States",
         "Marshall Islands",
         46,
         false
        ],
        [
         "United States",
         "Luxembourg",
         161,
         false
        ],
        [
         "United States",
         "Honduras",
         411,
         false
        ],
        [
         "United States",
         "The Bahamas",
         950,
         false
        ],
        [
         "United States",
         "El Salvador",
         572,
         false
        ],
        [
         "Senegal",
         "United States",
         28,
         false
        ],
        [
         "United States",
         "Samoa",
         24,
         false
        ],
        [
         null,
         "United States",
         12,
         false
        ],
        [
         "United States",
         "Kazakhstan",
         1,
         false
        ],
        [
         "United States",
         "Switzerland",
         302,
         false
        ],
        [
         "Anguilla",
         "United States",
         35,
         false
        ],
        [
         "United States",
         "Sint Maarten",
         290,
         false
        ],
        [
         "United States",
         "Hong Kong",
         338,
         false
        ],
        [
         null,
         "United States",
         1,
         false
        ],
        [
         "United States",
         "Latvia",
         40,
         false
        ],
        [
         "United States",
         "Trinidad and Tobago",
         188,
         false
        ],
        [
         "Ecuador",
         "United States",
         326,
         false
        ],
        [
         "United States",
         "Slovakia",
         1,
         false
        ],
        [
         "United States",
         "Suriname",
         10,
         false
        ],
        [
         "United States",
         "Mexico",
         6427,
         true
        ],
        [
         "United States",
         "Ecuador",
         256,
         false
        ],
        [
         "Portugal",
         "United States",
         122,
         false
        ],
        [
         "Guatemala",
         "United States",
         327,
         false
        ],
        [
         "Costa Rica",
         "United States",
         560,
         false
        ],
        [
         "Suriname",
         "United States",
         27,
         false
        ],
        [
         "United States",
         "Colombia",
         872,
         false
        ],
        [
         null,
         "United States",
         16,
         false
        ],
        [
         "Jamaica",
         "United States",
         714,
         false
        ],
        [
         "United States",
         "Norway",
         86,
         false
        ],
        [
         null,
         "United States",
         15,
         false
        ],
        [
         "United States",
         "Venezuela",
         335,
         false
        ],
        [
         null,
         "United States",
         25,
         false
        ],
        [
         "Palau",
         "United States",
         38,
         false
        ],
        [
         "Venezuela",
         "United States",
         258,
         false
        ],
        [
         "United States",
         "Panama",
         456,
         false
        ],
        [
         "Chile",
         "United States",
         168,
         false
        ],
        [
         null,
         "United States",
         19,
         true
        ],
        [
         "United States",
         "Antigua and Barbuda",
         115,
         false
        ],
        [
         "United States",
         "Morocco",
         18,
         false
        ],
        [
         null,
         "United States",
         19,
         true
        ],
        [
         "United States",
         "Azerbaijan",
         7,
         true
        ],
        [
         "The Bahamas",
         "United States",
         991,
         true
        ],
        [
         "United States",
         "New Zealand",
         114,
         false
        ],
        [
         "United States",
         "Liberia",
         3,
         true
        ],
        [
         "Hong Kong",
         "United States",
         381,
         false
        ],
        [
         "United States",
         "Hungary",
         2,
         true
        ],
        [
         null,
         "United States",
         1,
         false
        ],
        [
         "China",
         "United States",
         767,
         false
        ],
        [
         "United States",
         "Burkina Faso",
         2,
         true
        ],
        [
         "United States",
         "Sweden",
         94,
         false
        ],
        [
         null,
         "United States",
         24,
         false
        ],
        [
         "Dominican Republic",
         "United States",
         1282,
         false
        ],
        [
         null,
         "United States",
         11,
         true
        ],
        [
         "United States",
         "Israel",
         108,
         false
        ],
        [
         "United States",
         "United States",
         358354,
         false
        ],
        [
         "Luxembourg",
         "United States",
         115,
         false
        ],
        [
         "United States",
         "Ethiopia",
         11,
         true
        ],
        [
         "Poland",
         "United States",
         33,
         false
        ],
        [
         "United States",
         "Martinique",
         31,
         true
        ],
        [
         "Saint Barthelemy",
         "United States",
         53,
         true
        ],
        [
         "United States",
         "Saint Barthelemy",
         53,
         true
        ],
        [
         "Turkey",
         "United States",
         92,
         false
        ],
        [
         "United States",
         "Barbados",
         102,
         false
        ],
        [
         null,
         "United States",
         1,
         false
        ],
        [
         null,
         "United States",
         5,
         true
        ],
        [
         "United States",
         "Germany",
         1391,
         false
        ],
        [
         "South Korea",
         "United States",
         754,
         false
        ],
        [
         "El Salvador",
         "United States",
         486,
         false
        ],
        [
         "United States",
         "Ireland",
         267,
         false
        ],
        [
         null,
         "United States",
         1,
         false
        ],
        [
         "United States",
         "Malaysia",
         2,
         true
        ],
        [
         "Panama",
         "United States",
         460,
         false
        ],
        [
         "Aruba",
         "United States",
         348,
         false
        ],
        [
         null,
         "United States",
         11,
         true
        ],
        [
         "Turks and Caicos Islands",
         "United States",
         204,
         false
        ],
        [
         null,
         "United States",
         12,
         false
        ],
        [
         "Honduras",
         "United States",
         412,
         false
        ],
        [
         "United States",
         "Fiji",
         25,
         false
        ],
        [
         "United States",
         "Qatar",
         95,
         false
        ],
        [
         "United States",
         "Saint Kitts and Nevis",
         118,
         false
        ],
        [
         "United States",
         "Haiti",
         201,
         false
        ],
        [
         "United States",
         "Taiwan",
         265,
         false
        ],
        [
         "United States",
         "Kuwait",
         24,
         false
        ],
        [
         "United States",
         "Canada",
         7974,
         false
        ],
        [
         "United States",
         "Federated States of Micronesia",
         60,
         false
        ],
        [
         "United States",
         "Jamaica",
         673,
         true
        ],
        [
         null,
         "United States",
         2,
         true
        ],
        [
         "United States",
         "Dominican Republic",
         1230,
         false
        ],
        [
         "United States",
         "Japan",
         1591,
         false
        ],
        [
         null,
         "United States",
         3,
         true
        ],
        [
         "United States",
         "Finland",
         18,
         false
        ],
        [
         null,
         "United States",
         1,
         false
        ],
        [
         "Guadeloupe",
         "United States",
         47,
         true
        ],
        [
         "France",
         "United States",
         960,
         false
        ],
        [
         "United States",
         "Aruba",
         351,
         false
        ],
        [
         "Norway",
         "United States",
         87,
         false
        ],
        [
         "United States",
         "French Guiana",
         11,
         true
        ],
        [
         "Kiribati",
         "United States",
         27,
         false
        ],
        [
         "United States",
         "India",
         61,
         true
        ],
        [
         "United States",
         "British Virgin Islands",
         108,
         false
        ],
        [
         "United States",
         "Brazil",
         927,
         false
        ],
        [
         "Germany",
         "United States",
         1343,
         false
        ],
        [
         "New Zealand",
         "United States",
         77,
         false
        ],
        [
         null,
         "United States",
         1,
         false
        ],
        [
         "United States",
         "French Polynesia",
         39,
         false
        ],
        [
         "United States",
         "United Arab Emirates",
         247,
         false
        ],
        [
         "Mexico",
         "United States",
         6490,
         false
        ],
        [
         "United States",
         "Netherlands",
         773,
         true
        ],
        [
         "Sweden",
         "United States",
         101,
         true
        ],
        [
         "Martinique",
         "United States",
         32,
         false
        ],
        [
         "United Arab Emirates",
         "United States",
         226,
         false
        ],
        [
         null,
         "United States",
         1,
         false
        ],
        [
         "United States",
         "Denmark",
         114,
         false
        ],
        [
         "United States",
         "China",
         653,
         true
        ],
        [
         "Nicaragua",
         "United States",
         170,
         false
        ],
        [
         "Philippines",
         "United States",
         116,
         false
        ],
        [
         "Belgium",
         "United States",
         230,
         false
        ],
        [
         "United States",
         "Peru",
         277,
         true
        ],
        [
         "United States",
         "Argentina",
         195,
         false
        ],
        [
         "United States",
         "Cayman Islands",
         283,
         true
        ],
        [
         "United States",
         "South Africa",
         32,
         false
        ],
        [
         "Argentina",
         "United States",
         153,
         false
        ],
        [
         "Iceland",
         "United States",
         177,
         false
        ],
        [
         "United States",
         "Chad",
         1,
         false
        ],
        [
         "United States",
         "Spain",
         388,
         false
        ],
        [
         "United States",
         "Bermuda",
         185,
         false
        ],
        [
         "Nigeria",
         "United States",
         43,
         true
        ],
        [
         "Austria",
         "United States",
         46,
         false
        ],
        [
         "Bonaire, Sint Eustatius, and Saba",
         "United States",
         63,
         false
        ],
        [
         "United States",
         "Kiribati",
         26,
         false
        ],
        [
         "United States",
         "Saudi Arabia",
         79,
         true
        ],
        [
         "United States",
         "Czech Republic",
         11,
         true
        ],
        [
         "United States",
         "Macau",
         3,
         true
        ],
        [
         "United States",
         "Belgium",
         259,
         false
        ],
        [
         "Israel",
         "United States",
         112,
         false
        ],
        [
         "Saint Lucia",
         "United States",
         109,
         true
        ],
        [
         "British Virgin Islands",
         "United States",
         101,
         true
        ],
        [
         "United States",
         "Curacao",
         74,
         false
        ],
        [
         "Denmark",
         "United States",
         116,
         false
        ],
        [
         "Guyana",
         "United States",
         55,
         false
        ],
        [
         "United States",
         "Philippines",
         134,
         false
        ],
        [
         "United States",
         "Grenada",
         43,
         true
        ],
        [
         "United States",
         "Cape Verde",
         24,
         false
        ],
        [
         "United States",
         "Ukraine",
         11,
         true
        ],
        [
         "United States",
         "Russia",
         213,
         false
        ],
        [
         "Saudi Arabia",
         "United States",
         74,
         false
        ],
        [
         "United States",
         "Guatemala",
         383,
         true
        ],
        [
         "United States",
         "Saint Lucia",
         107,
         true
        ],
        [
         "United States",
         "Paraguay",
         90,
         false
        ],
        [
         "Curacao",
         "United States",
         77,
         false
        ],
        [
         "Taiwan",
         "United States",
         240,
         false
        ],
        [
         "United States",
         "Tunisia",
         2,
         true
        ],
        [
         "South Africa",
         "United States",
         32,
         false
        ],
        [
         "United States",
         "Turkey",
         91,
         false
        ],
        [
         "United States",
         "United Kingdom",
         1912,
         false
        ],
        [
         "United States",
         "Romania",
         11,
         true
        ],
        [
         null,
         "United States",
         1,
         false
        ],
        [
         "Spain",
         "United States",
         424,
         false
        ],
        [
         "United States",
         "Cuba",
         417,
         false
        ],
        [
         "Italy",
         "United States",
         385,
         false
        ],
        [
         "Switzerland",
         "United States",
         300,
         false
        ],
        [
         "United States",
         "Dominica",
         25,
         false
        ],
        [
         "Japan",
         "United States",
         1501,
         false
        ],
        [
         "United States",
         "Portugal",
         124,
         false
        ],
        [
         "Brazil",
         "United States",
         578,
         false
        ],
        [
         "United States",
         "Bahrain",
         41,
         true
        ],
        [
         "Peru",
         "United States",
         315,
         false
        ],
        [
         "United States",
         "Indonesia",
         1,
         false
        ],
        [
         "United Kingdom",
         "United States",
         1812,
         false
        ],
        [
         "Belize",
         "United States",
         143,
         false
        ],
        [
         "United States",
         "Belize",
         142,
         false
        ],
        [
         null,
         "United States",
         15,
         false
        ],
        [
         "United States",
         "Mauritania",
         1,
         false
        ],
        [
         null,
         "United States",
         1,
         false
        ],
        [
         "Fiji",
         "United States",
         27,
         false
        ],
        [
         "Canada",
         "United States",
         8177,
         false
        ],
        [
         "Antigua and Barbuda",
         "United States",
         112,
         false
        ],
        [
         "French Polynesia",
         "United States",
         40,
         false
        ],
        [
         "United States",
         "Nicaragua",
         168,
         false
        ],
        [
         null,
         "United States",
         13,
         true
        ],
        [
         "Dominica",
         "United States",
         36,
         false
        ],
        [
         null,
         "United States",
         11,
         true
        ],
        [
         null,
         "United States",
         12,
         false
        ],
        [
         "Australia",
         "United States",
         235,
         false
        ],
        [
         "United States",
         "Austria",
         47,
         true
        ],
        [
         "United States",
         "Jordan",
         65,
         false
        ],
        [
         "United States",
         "Palau",
         38,
         false
        ],
        [
         "United States",
         "South Korea",
         968,
         false
        ],
        [
         "United States",
         "Angola",
         13,
         true
        ],
        [
         "United States",
         "Ghana",
         13,
         true
        ],
        [
         "United States",
         "Guadeloupe",
         43,
         true
        ],
        [
         "United States",
         "France",
         966,
         false
        ],
        [
         "United States",
         "Poland",
         35,
         false
        ],
        [
         "United States",
         "Nigeria",
         49,
         false
        ],
        [
         null,
         "United States",
         18,
         false
        ],
        [
         "United States",
         "Greenland",
         2,
         true
        ],
        [
         "United States",
         "Chile",
         156,
         false
        ],
        [
         "Bermuda",
         "United States",
         190,
         false
        ],
        [
         "Cuba",
         "United States",
         419,
         true
        ],
        [
         "Qatar",
         "United States",
         96,
         false
        ],
        [
         "Colombia",
         "United States",
         888,
         false
        ],
        [
         "Barbados",
         "United States",
         89,
         true
        ],
        [
         "United States",
         "Australia",
         293,
         true
        ],
        [
         "Cayman Islands",
         "United States",
         278,
         false
        ],
        [
         "Jordan",
         "United States",
         64,
         false
        ],
        [
         "Trinidad and Tobago",
         "United States",
         175,
         false
        ],
        [
         null,
         "United States",
         14,
         false
        ],
        [
         "United States",
         "Uruguay",
         60,
         false
        ],
        [
         "United States",
         "Cook Islands",
         12,
         false
        ],
        [
         null,
         "United States",
         4,
         false
        ],
        [
         "Saint Kitts and Nevis",
         "United States",
         123,
         false
        ],
        [
         "Haiti",
         "United States",
         193,
         true
        ],
        [
         "United States",
         "Bonaire, Sint Eustatius, and Saba",
         62,
         false
        ],
        [
         "United States",
         "Greece",
         20,
         false
        ]
       ],
       "datasetInfos": [],
       "dbfsResultPath": null,
       "isJsonSchema": true,
       "metadata": {},
       "overflow": false,
       "plotOptions": {
        "customPlotOptions": {},
        "displayType": "table",
        "pivotAggregation": null,
        "pivotColumns": null,
        "xColumns": null,
        "yColumns": null
       },
       "removedWidgets": [],
       "schema": [
        {
         "metadata": "{}",
         "name": "origin",
         "type": "\"string\""
        },
        {
         "metadata": "{}",
         "name": "dest",
         "type": "\"string\""
        },
        {
         "metadata": "{}",
         "name": "flights",
         "type": "\"integer\""
        },
        {
         "metadata": "{}",
         "name": "is_prime_flights",
         "type": "\"boolean\""
        }
       ],
       "type": "table"
      }
     },
     "output_type": "display_data"
    }
   ],
   "source": [
    "from pyspark.sql.functions import udf\n",
    "from pyspark.sql.types import BooleanType\n",
    "\n",
    "def is_prime(n):\n",
    "    if n is None or n < 2:\n",
    "        return False\n",
    "    for i in range(2, int(n ** 0.5) + 1):\n",
    "        if n % i == 0:\n",
    "            return False\n",
    "    return True\n",
    "\n",
    "is_prime_udf = udf(is_prime, BooleanType())\n",
    "\n",
    "df = df.withColumn(\"is_prime_flights\", is_prime_udf(\"flights\"))\n",
    "display(df.select(\"origin\", \"dest\", \"flights\", \"is_prime_flights\"))"
   ]
  },
  {
   "cell_type": "code",
   "execution_count": 0,
   "metadata": {
    "application/vnd.databricks.v1+cell": {
     "cellMetadata": {
      "byteLimit": 2048000,
      "rowLimit": 10000
     },
     "inputWidgets": {},
     "nuid": "cdf5229a-d75b-433c-849e-dcc918fc32ff",
     "showTitle": false,
     "tableResultSettingsMap": {},
     "title": ""
    }
   },
   "outputs": [
    {
     "output_type": "display_data",
     "data": {
      "application/vnd.databricks.v1+bamboolib_hint": "{\"pd.DataFrames\": [], \"version\": \"0.0.1\"}",
      "text/plain": []
     },
     "metadata": {},
     "output_type": "display_data"
    },
    {
     "output_type": "display_data",
     "data": {
      "text/html": [
       "<style scoped>\n",
       "  .table-result-container {\n",
       "    max-height: 300px;\n",
       "    overflow: auto;\n",
       "  }\n",
       "  table, th, td {\n",
       "    border: 1px solid black;\n",
       "    border-collapse: collapse;\n",
       "  }\n",
       "  th, td {\n",
       "    padding: 5px;\n",
       "  }\n",
       "  th {\n",
       "    text-align: left;\n",
       "  }\n",
       "</style><div class='table-result-container'><table class='table-result'><thead style='background-color: white'><tr><th>origin</th><th>origin_vowel_count</th></tr></thead><tbody><tr><td>null</td><td>0</td></tr><tr><td>null</td><td>0</td></tr><tr><td>null</td><td>0</td></tr><tr><td>Ireland</td><td>3</td></tr><tr><td>India</td><td>3</td></tr><tr><td>null</td><td>0</td></tr><tr><td>Grenada</td><td>3</td></tr><tr><td>United States</td><td>5</td></tr><tr><td>United States</td><td>5</td></tr><tr><td>Sint Maarten</td><td>4</td></tr><tr><td>United States</td><td>5</td></tr><tr><td>Marshall Islands</td><td>4</td></tr><tr><td>United States</td><td>5</td></tr><tr><td>United States</td><td>5</td></tr><tr><td>United States</td><td>5</td></tr><tr><td>United States</td><td>5</td></tr><tr><td>United States</td><td>5</td></tr><tr><td>null</td><td>0</td></tr><tr><td>United States</td><td>5</td></tr><tr><td>United States</td><td>5</td></tr><tr><td>United States</td><td>5</td></tr><tr><td>Russia</td><td>3</td></tr><tr><td>United States</td><td>5</td></tr><tr><td>United States</td><td>5</td></tr><tr><td>Federated States of Micronesia</td><td>12</td></tr><tr><td>United States</td><td>5</td></tr><tr><td>Netherlands</td><td>3</td></tr><tr><td>United States</td><td>5</td></tr><tr><td>United States</td><td>5</td></tr><tr><td>United States</td><td>5</td></tr><tr><td>United States</td><td>5</td></tr><tr><td>United States</td><td>5</td></tr><tr><td>Senegal</td><td>3</td></tr><tr><td>United States</td><td>5</td></tr><tr><td>null</td><td>0</td></tr><tr><td>United States</td><td>5</td></tr><tr><td>United States</td><td>5</td></tr><tr><td>Anguilla</td><td>4</td></tr><tr><td>United States</td><td>5</td></tr><tr><td>United States</td><td>5</td></tr><tr><td>null</td><td>0</td></tr><tr><td>United States</td><td>5</td></tr><tr><td>United States</td><td>5</td></tr><tr><td>Ecuador</td><td>4</td></tr><tr><td>United States</td><td>5</td></tr><tr><td>United States</td><td>5</td></tr><tr><td>United States</td><td>5</td></tr><tr><td>United States</td><td>5</td></tr><tr><td>Portugal</td><td>3</td></tr><tr><td>Guatemala</td><td>5</td></tr><tr><td>Costa Rica</td><td>4</td></tr><tr><td>Suriname</td><td>4</td></tr><tr><td>United States</td><td>5</td></tr><tr><td>null</td><td>0</td></tr><tr><td>Jamaica</td><td>4</td></tr><tr><td>United States</td><td>5</td></tr><tr><td>null</td><td>0</td></tr><tr><td>United States</td><td>5</td></tr><tr><td>null</td><td>0</td></tr><tr><td>Palau</td><td>3</td></tr><tr><td>Venezuela</td><td>5</td></tr><tr><td>United States</td><td>5</td></tr><tr><td>Chile</td><td>2</td></tr><tr><td>null</td><td>0</td></tr><tr><td>United States</td><td>5</td></tr><tr><td>United States</td><td>5</td></tr><tr><td>null</td><td>0</td></tr><tr><td>United States</td><td>5</td></tr><tr><td>The Bahamas</td><td>4</td></tr><tr><td>United States</td><td>5</td></tr><tr><td>United States</td><td>5</td></tr><tr><td>Hong Kong</td><td>2</td></tr><tr><td>United States</td><td>5</td></tr><tr><td>null</td><td>0</td></tr><tr><td>China</td><td>2</td></tr><tr><td>United States</td><td>5</td></tr><tr><td>United States</td><td>5</td></tr><tr><td>null</td><td>0</td></tr><tr><td>Dominican Republic</td><td>7</td></tr><tr><td>null</td><td>0</td></tr><tr><td>United States</td><td>5</td></tr><tr><td>United States</td><td>5</td></tr><tr><td>Luxembourg</td><td>4</td></tr><tr><td>United States</td><td>5</td></tr><tr><td>Poland</td><td>2</td></tr><tr><td>United States</td><td>5</td></tr><tr><td>Saint Barthelemy</td><td>5</td></tr><tr><td>United States</td><td>5</td></tr><tr><td>Turkey</td><td>2</td></tr><tr><td>United States</td><td>5</td></tr><tr><td>null</td><td>0</td></tr><tr><td>null</td><td>0</td></tr><tr><td>United States</td><td>5</td></tr><tr><td>South Korea</td><td>5</td></tr><tr><td>El Salvador</td><td>4</td></tr><tr><td>United States</td><td>5</td></tr><tr><td>null</td><td>0</td></tr><tr><td>United States</td><td>5</td></tr><tr><td>Panama</td><td>3</td></tr><tr><td>Aruba</td><td>3</td></tr><tr><td>null</td><td>0</td></tr><tr><td>Turks and Caicos Islands</td><td>7</td></tr><tr><td>null</td><td>0</td></tr><tr><td>Honduras</td><td>3</td></tr><tr><td>United States</td><td>5</td></tr><tr><td>United States</td><td>5</td></tr><tr><td>United States</td><td>5</td></tr><tr><td>United States</td><td>5</td></tr><tr><td>United States</td><td>5</td></tr><tr><td>United States</td><td>5</td></tr><tr><td>United States</td><td>5</td></tr><tr><td>United States</td><td>5</td></tr><tr><td>United States</td><td>5</td></tr><tr><td>null</td><td>0</td></tr><tr><td>United States</td><td>5</td></tr><tr><td>United States</td><td>5</td></tr><tr><td>null</td><td>0</td></tr><tr><td>United States</td><td>5</td></tr><tr><td>null</td><td>0</td></tr><tr><td>Guadeloupe</td><td>6</td></tr><tr><td>France</td><td>2</td></tr><tr><td>United States</td><td>5</td></tr><tr><td>Norway</td><td>2</td></tr><tr><td>United States</td><td>5</td></tr><tr><td>Kiribati</td><td>4</td></tr><tr><td>United States</td><td>5</td></tr><tr><td>United States</td><td>5</td></tr><tr><td>United States</td><td>5</td></tr><tr><td>Germany</td><td>2</td></tr><tr><td>New Zealand</td><td>4</td></tr><tr><td>null</td><td>0</td></tr><tr><td>United States</td><td>5</td></tr><tr><td>United States</td><td>5</td></tr><tr><td>Mexico</td><td>3</td></tr><tr><td>United States</td><td>5</td></tr><tr><td>Sweden</td><td>2</td></tr><tr><td>Martinique</td><td>5</td></tr><tr><td>United Arab Emirates</td><td>9</td></tr><tr><td>null</td><td>0</td></tr><tr><td>United States</td><td>5</td></tr><tr><td>United States</td><td>5</td></tr><tr><td>Nicaragua</td><td>5</td></tr><tr><td>Philippines</td><td>4</td></tr><tr><td>Belgium</td><td>3</td></tr><tr><td>United States</td><td>5</td></tr><tr><td>United States</td><td>5</td></tr><tr><td>United States</td><td>5</td></tr><tr><td>United States</td><td>5</td></tr><tr><td>Argentina</td><td>4</td></tr><tr><td>Iceland</td><td>3</td></tr><tr><td>United States</td><td>5</td></tr><tr><td>United States</td><td>5</td></tr><tr><td>United States</td><td>5</td></tr><tr><td>Nigeria</td><td>4</td></tr><tr><td>Austria</td><td>4</td></tr><tr><td>Bonaire, Sint Eustatius, and Saba</td><td>13</td></tr><tr><td>United States</td><td>5</td></tr><tr><td>United States</td><td>5</td></tr><tr><td>United States</td><td>5</td></tr><tr><td>United States</td><td>5</td></tr><tr><td>United States</td><td>5</td></tr><tr><td>Israel</td><td>3</td></tr><tr><td>Saint Lucia</td><td>5</td></tr><tr><td>British Virgin Islands</td><td>6</td></tr><tr><td>United States</td><td>5</td></tr><tr><td>Denmark</td><td>2</td></tr><tr><td>Guyana</td><td>3</td></tr><tr><td>United States</td><td>5</td></tr><tr><td>United States</td><td>5</td></tr><tr><td>United States</td><td>5</td></tr><tr><td>United States</td><td>5</td></tr><tr><td>United States</td><td>5</td></tr><tr><td>Saudi Arabia</td><td>7</td></tr><tr><td>United States</td><td>5</td></tr><tr><td>United States</td><td>5</td></tr><tr><td>United States</td><td>5</td></tr><tr><td>Curacao</td><td>4</td></tr><tr><td>Taiwan</td><td>3</td></tr><tr><td>United States</td><td>5</td></tr><tr><td>South Africa</td><td>5</td></tr><tr><td>United States</td><td>5</td></tr><tr><td>United States</td><td>5</td></tr><tr><td>United States</td><td>5</td></tr><tr><td>null</td><td>0</td></tr><tr><td>Spain</td><td>2</td></tr><tr><td>United States</td><td>5</td></tr><tr><td>Italy</td><td>2</td></tr><tr><td>Switzerland</td><td>3</td></tr><tr><td>United States</td><td>5</td></tr><tr><td>Japan</td><td>2</td></tr><tr><td>United States</td><td>5</td></tr><tr><td>Brazil</td><td>2</td></tr><tr><td>United States</td><td>5</td></tr><tr><td>Peru</td><td>2</td></tr><tr><td>United States</td><td>5</td></tr><tr><td>United Kingdom</td><td>5</td></tr><tr><td>Belize</td><td>3</td></tr><tr><td>United States</td><td>5</td></tr><tr><td>null</td><td>0</td></tr><tr><td>United States</td><td>5</td></tr><tr><td>null</td><td>0</td></tr><tr><td>Fiji</td><td>2</td></tr><tr><td>Canada</td><td>3</td></tr><tr><td>Antigua and Barbuda</td><td>8</td></tr><tr><td>French Polynesia</td><td>5</td></tr><tr><td>United States</td><td>5</td></tr><tr><td>null</td><td>0</td></tr><tr><td>Dominica</td><td>4</td></tr><tr><td>null</td><td>0</td></tr><tr><td>null</td><td>0</td></tr><tr><td>Australia</td><td>5</td></tr><tr><td>United States</td><td>5</td></tr><tr><td>United States</td><td>5</td></tr><tr><td>United States</td><td>5</td></tr><tr><td>United States</td><td>5</td></tr><tr><td>United States</td><td>5</td></tr><tr><td>United States</td><td>5</td></tr><tr><td>United States</td><td>5</td></tr><tr><td>United States</td><td>5</td></tr><tr><td>United States</td><td>5</td></tr><tr><td>United States</td><td>5</td></tr><tr><td>null</td><td>0</td></tr><tr><td>United States</td><td>5</td></tr><tr><td>United States</td><td>5</td></tr><tr><td>Bermuda</td><td>3</td></tr><tr><td>Cuba</td><td>2</td></tr><tr><td>Qatar</td><td>2</td></tr><tr><td>Colombia</td><td>4</td></tr><tr><td>Barbados</td><td>3</td></tr><tr><td>United States</td><td>5</td></tr><tr><td>Cayman Islands</td><td>4</td></tr><tr><td>Jordan</td><td>2</td></tr><tr><td>Trinidad and Tobago</td><td>7</td></tr><tr><td>null</td><td>0</td></tr><tr><td>United States</td><td>5</td></tr><tr><td>United States</td><td>5</td></tr><tr><td>null</td><td>0</td></tr><tr><td>Saint Kitts and Nevis</td><td>6</td></tr><tr><td>Haiti</td><td>3</td></tr><tr><td>United States</td><td>5</td></tr><tr><td>United States</td><td>5</td></tr></tbody></table></div>"
      ]
     },
     "metadata": {
      "application/vnd.databricks.v1+output": {
       "addedWidgets": {},
       "aggData": [],
       "aggError": "",
       "aggOverflow": false,
       "aggSchema": [],
       "aggSeriesLimitReached": false,
       "aggType": "",
       "arguments": {},
       "columnCustomDisplayInfos": {},
       "data": [
        [
         null,
         0
        ],
        [
         null,
         0
        ],
        [
         null,
         0
        ],
        [
         "Ireland",
         3
        ],
        [
         "India",
         3
        ],
        [
         null,
         0
        ],
        [
         "Grenada",
         3
        ],
        [
         "United States",
         5
        ],
        [
         "United States",
         5
        ],
        [
         "Sint Maarten",
         4
        ],
        [
         "United States",
         5
        ],
        [
         "Marshall Islands",
         4
        ],
        [
         "United States",
         5
        ],
        [
         "United States",
         5
        ],
        [
         "United States",
         5
        ],
        [
         "United States",
         5
        ],
        [
         "United States",
         5
        ],
        [
         null,
         0
        ],
        [
         "United States",
         5
        ],
        [
         "United States",
         5
        ],
        [
         "United States",
         5
        ],
        [
         "Russia",
         3
        ],
        [
         "United States",
         5
        ],
        [
         "United States",
         5
        ],
        [
         "Federated States of Micronesia",
         12
        ],
        [
         "United States",
         5
        ],
        [
         "Netherlands",
         3
        ],
        [
         "United States",
         5
        ],
        [
         "United States",
         5
        ],
        [
         "United States",
         5
        ],
        [
         "United States",
         5
        ],
        [
         "United States",
         5
        ],
        [
         "Senegal",
         3
        ],
        [
         "United States",
         5
        ],
        [
         null,
         0
        ],
        [
         "United States",
         5
        ],
        [
         "United States",
         5
        ],
        [
         "Anguilla",
         4
        ],
        [
         "United States",
         5
        ],
        [
         "United States",
         5
        ],
        [
         null,
         0
        ],
        [
         "United States",
         5
        ],
        [
         "United States",
         5
        ],
        [
         "Ecuador",
         4
        ],
        [
         "United States",
         5
        ],
        [
         "United States",
         5
        ],
        [
         "United States",
         5
        ],
        [
         "United States",
         5
        ],
        [
         "Portugal",
         3
        ],
        [
         "Guatemala",
         5
        ],
        [
         "Costa Rica",
         4
        ],
        [
         "Suriname",
         4
        ],
        [
         "United States",
         5
        ],
        [
         null,
         0
        ],
        [
         "Jamaica",
         4
        ],
        [
         "United States",
         5
        ],
        [
         null,
         0
        ],
        [
         "United States",
         5
        ],
        [
         null,
         0
        ],
        [
         "Palau",
         3
        ],
        [
         "Venezuela",
         5
        ],
        [
         "United States",
         5
        ],
        [
         "Chile",
         2
        ],
        [
         null,
         0
        ],
        [
         "United States",
         5
        ],
        [
         "United States",
         5
        ],
        [
         null,
         0
        ],
        [
         "United States",
         5
        ],
        [
         "The Bahamas",
         4
        ],
        [
         "United States",
         5
        ],
        [
         "United States",
         5
        ],
        [
         "Hong Kong",
         2
        ],
        [
         "United States",
         5
        ],
        [
         null,
         0
        ],
        [
         "China",
         2
        ],
        [
         "United States",
         5
        ],
        [
         "United States",
         5
        ],
        [
         null,
         0
        ],
        [
         "Dominican Republic",
         7
        ],
        [
         null,
         0
        ],
        [
         "United States",
         5
        ],
        [
         "United States",
         5
        ],
        [
         "Luxembourg",
         4
        ],
        [
         "United States",
         5
        ],
        [
         "Poland",
         2
        ],
        [
         "United States",
         5
        ],
        [
         "Saint Barthelemy",
         5
        ],
        [
         "United States",
         5
        ],
        [
         "Turkey",
         2
        ],
        [
         "United States",
         5
        ],
        [
         null,
         0
        ],
        [
         null,
         0
        ],
        [
         "United States",
         5
        ],
        [
         "South Korea",
         5
        ],
        [
         "El Salvador",
         4
        ],
        [
         "United States",
         5
        ],
        [
         null,
         0
        ],
        [
         "United States",
         5
        ],
        [
         "Panama",
         3
        ],
        [
         "Aruba",
         3
        ],
        [
         null,
         0
        ],
        [
         "Turks and Caicos Islands",
         7
        ],
        [
         null,
         0
        ],
        [
         "Honduras",
         3
        ],
        [
         "United States",
         5
        ],
        [
         "United States",
         5
        ],
        [
         "United States",
         5
        ],
        [
         "United States",
         5
        ],
        [
         "United States",
         5
        ],
        [
         "United States",
         5
        ],
        [
         "United States",
         5
        ],
        [
         "United States",
         5
        ],
        [
         "United States",
         5
        ],
        [
         null,
         0
        ],
        [
         "United States",
         5
        ],
        [
         "United States",
         5
        ],
        [
         null,
         0
        ],
        [
         "United States",
         5
        ],
        [
         null,
         0
        ],
        [
         "Guadeloupe",
         6
        ],
        [
         "France",
         2
        ],
        [
         "United States",
         5
        ],
        [
         "Norway",
         2
        ],
        [
         "United States",
         5
        ],
        [
         "Kiribati",
         4
        ],
        [
         "United States",
         5
        ],
        [
         "United States",
         5
        ],
        [
         "United States",
         5
        ],
        [
         "Germany",
         2
        ],
        [
         "New Zealand",
         4
        ],
        [
         null,
         0
        ],
        [
         "United States",
         5
        ],
        [
         "United States",
         5
        ],
        [
         "Mexico",
         3
        ],
        [
         "United States",
         5
        ],
        [
         "Sweden",
         2
        ],
        [
         "Martinique",
         5
        ],
        [
         "United Arab Emirates",
         9
        ],
        [
         null,
         0
        ],
        [
         "United States",
         5
        ],
        [
         "United States",
         5
        ],
        [
         "Nicaragua",
         5
        ],
        [
         "Philippines",
         4
        ],
        [
         "Belgium",
         3
        ],
        [
         "United States",
         5
        ],
        [
         "United States",
         5
        ],
        [
         "United States",
         5
        ],
        [
         "United States",
         5
        ],
        [
         "Argentina",
         4
        ],
        [
         "Iceland",
         3
        ],
        [
         "United States",
         5
        ],
        [
         "United States",
         5
        ],
        [
         "United States",
         5
        ],
        [
         "Nigeria",
         4
        ],
        [
         "Austria",
         4
        ],
        [
         "Bonaire, Sint Eustatius, and Saba",
         13
        ],
        [
         "United States",
         5
        ],
        [
         "United States",
         5
        ],
        [
         "United States",
         5
        ],
        [
         "United States",
         5
        ],
        [
         "United States",
         5
        ],
        [
         "Israel",
         3
        ],
        [
         "Saint Lucia",
         5
        ],
        [
         "British Virgin Islands",
         6
        ],
        [
         "United States",
         5
        ],
        [
         "Denmark",
         2
        ],
        [
         "Guyana",
         3
        ],
        [
         "United States",
         5
        ],
        [
         "United States",
         5
        ],
        [
         "United States",
         5
        ],
        [
         "United States",
         5
        ],
        [
         "United States",
         5
        ],
        [
         "Saudi Arabia",
         7
        ],
        [
         "United States",
         5
        ],
        [
         "United States",
         5
        ],
        [
         "United States",
         5
        ],
        [
         "Curacao",
         4
        ],
        [
         "Taiwan",
         3
        ],
        [
         "United States",
         5
        ],
        [
         "South Africa",
         5
        ],
        [
         "United States",
         5
        ],
        [
         "United States",
         5
        ],
        [
         "United States",
         5
        ],
        [
         null,
         0
        ],
        [
         "Spain",
         2
        ],
        [
         "United States",
         5
        ],
        [
         "Italy",
         2
        ],
        [
         "Switzerland",
         3
        ],
        [
         "United States",
         5
        ],
        [
         "Japan",
         2
        ],
        [
         "United States",
         5
        ],
        [
         "Brazil",
         2
        ],
        [
         "United States",
         5
        ],
        [
         "Peru",
         2
        ],
        [
         "United States",
         5
        ],
        [
         "United Kingdom",
         5
        ],
        [
         "Belize",
         3
        ],
        [
         "United States",
         5
        ],
        [
         null,
         0
        ],
        [
         "United States",
         5
        ],
        [
         null,
         0
        ],
        [
         "Fiji",
         2
        ],
        [
         "Canada",
         3
        ],
        [
         "Antigua and Barbuda",
         8
        ],
        [
         "French Polynesia",
         5
        ],
        [
         "United States",
         5
        ],
        [
         null,
         0
        ],
        [
         "Dominica",
         4
        ],
        [
         null,
         0
        ],
        [
         null,
         0
        ],
        [
         "Australia",
         5
        ],
        [
         "United States",
         5
        ],
        [
         "United States",
         5
        ],
        [
         "United States",
         5
        ],
        [
         "United States",
         5
        ],
        [
         "United States",
         5
        ],
        [
         "United States",
         5
        ],
        [
         "United States",
         5
        ],
        [
         "United States",
         5
        ],
        [
         "United States",
         5
        ],
        [
         "United States",
         5
        ],
        [
         null,
         0
        ],
        [
         "United States",
         5
        ],
        [
         "United States",
         5
        ],
        [
         "Bermuda",
         3
        ],
        [
         "Cuba",
         2
        ],
        [
         "Qatar",
         2
        ],
        [
         "Colombia",
         4
        ],
        [
         "Barbados",
         3
        ],
        [
         "United States",
         5
        ],
        [
         "Cayman Islands",
         4
        ],
        [
         "Jordan",
         2
        ],
        [
         "Trinidad and Tobago",
         7
        ],
        [
         null,
         0
        ],
        [
         "United States",
         5
        ],
        [
         "United States",
         5
        ],
        [
         null,
         0
        ],
        [
         "Saint Kitts and Nevis",
         6
        ],
        [
         "Haiti",
         3
        ],
        [
         "United States",
         5
        ],
        [
         "United States",
         5
        ]
       ],
       "datasetInfos": [],
       "dbfsResultPath": null,
       "isJsonSchema": true,
       "metadata": {},
       "overflow": false,
       "plotOptions": {
        "customPlotOptions": {},
        "displayType": "table",
        "pivotAggregation": null,
        "pivotColumns": null,
        "xColumns": null,
        "yColumns": null
       },
       "removedWidgets": [],
       "schema": [
        {
         "metadata": "{}",
         "name": "origin",
         "type": "\"string\""
        },
        {
         "metadata": "{}",
         "name": "origin_vowel_count",
         "type": "\"integer\""
        }
       ],
       "type": "table"
      }
     },
     "output_type": "display_data"
    }
   ],
   "source": [
    "from pyspark.sql.functions import pandas_udf\n",
    "from pyspark.sql.types import IntegerType\n",
    "import pandas as pd\n",
    "\n",
    "@pandas_udf(IntegerType())\n",
    "def count_vowels(col: pd.Series) -> pd.Series:\n",
    "    return col.fillna(\"\").str.lower().str.count(r\"[aeiou]\")\n",
    "\n",
    "df = df.withColumn(\"origin_vowel_count\", count_vowels(\"origin\"))\n",
    "display(df.select(\"origin\", \"origin_vowel_count\"))"
   ]
  }
 ],
 "metadata": {
  "application/vnd.databricks.v1+notebook": {
   "computePreferences": null,
   "dashboards": [],
   "environmentMetadata": {
    "base_environment": "",
    "environment_version": "1"
   },
   "inputWidgetPreferences": null,
   "language": "python",
   "notebookMetadata": {
    "pythonIndentUnit": 4
   },
   "notebookName": "Untitled Notebook 2025-04-09 15:47:10",
   "widgets": {}
  }
 },
 "nbformat": 4,
 "nbformat_minor": 0
}